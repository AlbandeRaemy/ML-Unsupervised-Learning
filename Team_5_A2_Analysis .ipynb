{
 "cells": [
  {
   "cell_type": "markdown",
   "metadata": {},
   "source": [
    "01/31/2021\n",
    "\n",
    "Unsupervised Analysis Project\n",
    "\n",
    "Team 5: \n",
    "- Alban de Raemy\n",
    "- Aminder Kaur\n",
    "- Giulio Marchesi\n",
    "- Sophie Bianchi \n",
    "- YongLe Li "
   ]
  },
  {
   "cell_type": "markdown",
   "metadata": {},
   "source": [
    "<h1> Introduction <h/1>"
   ]
  },
  {
   "cell_type": "markdown",
   "metadata": {},
   "source": [
    "Apple, to better understand what push its target customers to buy its products rather than Windows,  has decided to analyze its audience from the perspective of the Big Five personality traits and the Hult DNA. For this purpose, the company has commissioned a survey with many behavioral questions, as well as demographics and habits.\n",
    "In this analysis, we're taking into account the replies of the 137 Hult students from different programs that answered 77 questions.\n",
    "\n",
    "We will use unsupervised machine learning algorithms (PCA and Clustering) to better understand what drives the purchase of one one brand of computer over another one and to help predict the purchasing behavior of the students based on demographics and psychographics.\n",
    "\n",
    "[Source1](https://www.hult.edu/blog/culture-that-drives-performance-dna/) [Source2](https://www.hult.edu/blog/why-every-leader-needs-growth-mindset/)"
   ]
  },
  {
   "cell_type": "markdown",
   "metadata": {},
   "source": [
    "<h2> Understanding the data<h/2>"
   ]
  },
  {
   "cell_type": "markdown",
   "metadata": {},
   "source": [
    "<h3> Customer Psychology <h/3>"
   ]
  },
  {
   "cell_type": "markdown",
   "metadata": {},
   "source": [
    "Customer psychology is extremely complex. In order to better understand types of customers, psychologist have developed the OCEAN model also known as big five personality traits. "
   ]
  },
  {
   "cell_type": "markdown",
   "metadata": {},
   "source": [
    "<h3>Behaviour<h/3>"
   ]
  },
  {
   "cell_type": "markdown",
   "metadata": {},
   "source": [
    "Certain behaviors lead customers to different outcomes in their lifes. Hult has created their Hult DNA for behaviors that drive performance. It is developed in every student during their Hult journey."
   ]
  },
  {
   "cell_type": "markdown",
   "metadata": {},
   "source": [
    "<h3>5 Personality Test<h/>"
   ]
  },
  {
   "cell_type": "markdown",
   "metadata": {},
   "source": [
    "More in detail, the Big 5 Personality are:\n",
    "\n",
    " 1) Openness\n",
    " \n",
    " 2) Consciousness\n",
    " \n",
    " 3) Extraversion\n",
    " \n",
    " 4) Agreeableness\n",
    "  \n",
    " 5) Neuroticism"
   ]
  },
  {
   "cell_type": "markdown",
   "metadata": {},
   "source": [
    "<h3>Hult DNA<h/3>"
   ]
  },
  {
   "cell_type": "markdown",
   "metadata": {},
   "source": [
    "The Hult DNA consists of 3 categories and 3 subcategories: \n",
    "Thinking\n",
    " - Shows self-awareness\n",
    " - Embraces change\n",
    " - Demonstrates dynamic thinking\n",
    "\n",
    "Communicating\n",
    " - Speaks and listens skillfully\n",
    " - Influences confidently\n",
    " - Presents ideas effectively\n",
    "\n",
    "Team Building\n",
    " - Fosters collaborative relationships\n",
    " - Influences productivity\n",
    " - Resolves conflict constructively"
   ]
  },
  {
   "cell_type": "markdown",
   "metadata": {},
   "source": [
    "Combining all these psychographic aspects with demographics, we'll define Apple's target customers' behaviors and preferences."
   ]
  },
  {
   "cell_type": "markdown",
   "metadata": {},
   "source": [
    "# Data Analysis"
   ]
  },
  {
   "cell_type": "code",
   "execution_count": 73,
   "metadata": {},
   "outputs": [
    {
     "name": "stderr",
     "output_type": "stream",
     "text": [
      "<ipython-input-73-8c59c57c48f3>:35: FutureWarning: The pandas.np module is deprecated and will be removed from pandas in a future version. Import numpy directly instead\n",
      "  pd.np.set_printoptions(threshold=sys.maxsize)\n"
     ]
    }
   ],
   "source": [
    "########################################\n",
    "# importing packages\n",
    "########################################\n",
    "import pandas            as pd  # data science essentials\n",
    "import matplotlib.pyplot as plt # fundamental data visualization\n",
    "import seaborn           as sns # enhanced visualization\n",
    "import sys                      # system-specific parameters and functions\n",
    "\n",
    "\n",
    "# new libraries\n",
    "from sklearn.decomposition import PCA            # pca\n",
    "from sklearn.datasets      import load_digits    # digits dataset\n",
    "from sklearn.manifold      import TSNE           # t-SNE\n",
    "from sklearn.preprocessing import StandardScaler # standard scaler\n",
    "from sklearn.decomposition import PCA                   # pca\n",
    "from scipy.cluster.hierarchy import dendrogram, linkage # dendrograms\n",
    "from sklearn.cluster  import  KMeans  \n",
    "\n",
    "\n",
    "########################################\n",
    "# loading data and setting display options\n",
    "########################################\n",
    "# loading data\n",
    "\n",
    "#file name\n",
    "file = './survey_data.xlsx'\n",
    "survey = pd.read_excel(io=file)\n",
    "\n",
    "\n",
    "# setting print options\n",
    "pd.set_option('display.max_rows', 500)\n",
    "pd.set_option('display.max_columns', 500)\n",
    "pd.set_option('display.width', 1000)\n",
    "pd.set_option('display.max_colwidth', 100)\n",
    "pd.np.set_printoptions(threshold=sys.maxsize)\n"
   ]
  },
  {
   "cell_type": "markdown",
   "metadata": {},
   "source": [
    "<h2>Dataset Characteristics<h/2>"
   ]
  },
  {
   "cell_type": "markdown",
   "metadata": {},
   "source": [
    "**Responses**"
   ]
  },
  {
   "cell_type": "markdown",
   "metadata": {},
   "source": [
    "There are 137 people who have taken the survey."
   ]
  },
  {
   "cell_type": "markdown",
   "metadata": {},
   "source": [
    "**Variables**"
   ]
  },
  {
   "cell_type": "markdown",
   "metadata": {},
   "source": [
    "They have answered 78 questions (79 -1 surveyID)."
   ]
  },
  {
   "cell_type": "markdown",
   "metadata": {},
   "source": [
    "**Interval Variables**"
   ]
  },
  {
   "cell_type": "markdown",
   "metadata": {},
   "source": [
    "There are 71 numerical variables that are a mix of the Big Five personality traits and the Hult DNA characteristics. The respondents rated the Big 5 personality traits and the Hult DNA characteristics from 1 to 5 in ascending order of preference. "
   ]
  },
  {
   "cell_type": "markdown",
   "metadata": {},
   "source": [
    "**Categorical Variables**"
   ]
  },
  {
   "cell_type": "markdown",
   "metadata": {},
   "source": [
    "There are 7 categorical variables which include 2 variables that define what laptop does the respondent have and what laptop they would like in the future. Then there are 5 variables that describe the demographics such as Gender, Age (numeric but will be transformed), Nationality, Hult Program and Ethinicity."
   ]
  },
  {
   "cell_type": "markdown",
   "metadata": {},
   "source": [
    "**Missing Values**"
   ]
  },
  {
   "cell_type": "markdown",
   "metadata": {},
   "source": [
    "There are 0 missing values in the dataset."
   ]
  },
  {
   "cell_type": "markdown",
   "metadata": {},
   "source": [
    "**Data Source**"
   ]
  },
  {
   "cell_type": "markdown",
   "metadata": {},
   "source": [
    "The data is from a survey taken by 137 Hult Students."
   ]
  },
  {
   "cell_type": "markdown",
   "metadata": {},
   "source": [
    "<h2> Data Cleaning <h/2>"
   ]
  },
  {
   "cell_type": "markdown",
   "metadata": {},
   "source": [
    "<h3>Duplicate Questions<h/3>"
   ]
  },
  {
   "cell_type": "markdown",
   "metadata": {},
   "source": [
    "While checking the features we noticed that some of the questions were repeated:\n",
    "- Respond effectively to multiple priorities,\n",
    "- Take initiative even when circumstances, objectives, or rules aren't clear\n",
    "- Encourage direct and open discussions\n",
    "\n",
    "Before removing them, we decided to test if the student responded in the same manner in the repeated question to see if we can trust their response.\n",
    "\n",
    "If the difference between two answers was more than 2, we dropped these answers."
   ]
  },
  {
   "cell_type": "code",
   "execution_count": 74,
   "metadata": {
    "code_folding": [
     0
    ]
   },
   "outputs": [],
   "source": [
    "#Find the Index of the dupllicated columns\n",
    "\n",
    "#print(survey.columns.get_loc(\"Respond effectively to multiple priorities\"))\n",
    "#print(survey.columns.get_loc(\"Respond effectively to multiple priorities.1\"))\n",
    "#print(survey.columns.get_loc(\"Take initiative even when circumstances, objectives, or rules aren't clear\"))\n",
    "#print(survey.columns.get_loc(\"Take initiative even when circumstances, objectives, or rules aren't clear.1\"))\n",
    "#print(survey.columns.get_loc(\"Encourage direct and open discussions\"))\n",
    "#print(survey.columns.get_loc(\"Encourage direct and open discussions.1\"))"
   ]
  },
  {
   "cell_type": "code",
   "execution_count": 75,
   "metadata": {
    "code_folding": [
     0
    ]
   },
   "outputs": [],
   "source": [
    "# find answer discrepancies between duplicated questions\n",
    "question_1  = []\n",
    "question_2  = []\n",
    "question_3  = []\n",
    "\n",
    "for index in survey.iterrows():\n",
    "    question_1 = abs(survey.iloc[:,55] - survey.iloc[:,58])\n",
    "    survey['question_1'] = question_1\n",
    "    question_2 = abs(survey.iloc[:,56] - survey.iloc[:,59])\n",
    "    survey['question_2'] = question_2\n",
    "    question_3 = abs(survey.iloc[:,57] - survey.iloc[:,60])\n",
    "    survey['question_3'] = question_3\n",
    "                                                                                              \n",
    "survey_result1 =survey[survey['question_1']>2]  \n",
    "survey_result2 =survey[survey['question_2']>2] \n",
    "survey_result3 =survey[survey['question_3']>2] "
   ]
  },
  {
   "cell_type": "code",
   "execution_count": 76,
   "metadata": {
    "code_folding": [
     0
    ]
   },
   "outputs": [
    {
     "data": {
      "text/html": [
       "<div>\n",
       "<style scoped>\n",
       "    .dataframe tbody tr th:only-of-type {\n",
       "        vertical-align: middle;\n",
       "    }\n",
       "\n",
       "    .dataframe tbody tr th {\n",
       "        vertical-align: top;\n",
       "    }\n",
       "\n",
       "    .dataframe thead th {\n",
       "        text-align: right;\n",
       "    }\n",
       "</style>\n",
       "<table border=\"1\" class=\"dataframe\">\n",
       "  <thead>\n",
       "    <tr style=\"text-align: right;\">\n",
       "      <th></th>\n",
       "      <th>surveyID</th>\n",
       "      <th>Am the life of the party</th>\n",
       "      <th>Feel little concern for others</th>\n",
       "      <th>Am always prepared</th>\n",
       "      <th>Get stressed out easily</th>\n",
       "      <th>Have a rich vocabulary</th>\n",
       "      <th>Don't talk a lot</th>\n",
       "      <th>Am interested in people</th>\n",
       "      <th>Leave my belongings around</th>\n",
       "      <th>Am relaxed most of the time</th>\n",
       "      <th>Have difficulty understanding abstract ideas</th>\n",
       "      <th>Feel comfortable around people</th>\n",
       "      <th>Insult people</th>\n",
       "      <th>Pay attention to details</th>\n",
       "      <th>Worry about things</th>\n",
       "      <th>Have a vivid imagination</th>\n",
       "      <th>Keep in the background</th>\n",
       "      <th>Sympathize with others' feelings</th>\n",
       "      <th>Make a mess of things</th>\n",
       "      <th>Seldom feel blue</th>\n",
       "      <th>Am not interested in abstract ideas</th>\n",
       "      <th>Start conversations</th>\n",
       "      <th>Am not interested in other people's problems</th>\n",
       "      <th>Get chores done right away</th>\n",
       "      <th>Am easily disturbed</th>\n",
       "      <th>Have excellent ideas</th>\n",
       "      <th>Have little to say</th>\n",
       "      <th>Have a soft heart</th>\n",
       "      <th>Often forget to put things back in their proper place</th>\n",
       "      <th>Get upset easily</th>\n",
       "      <th>Do not have a good imagination</th>\n",
       "      <th>Talk to a lot of different people at parties</th>\n",
       "      <th>Am not really interested in others</th>\n",
       "      <th>Like order</th>\n",
       "      <th>Change my mood a lot</th>\n",
       "      <th>Am quick to understand things</th>\n",
       "      <th>Don't like to draw attention to myself</th>\n",
       "      <th>Take time out for others</th>\n",
       "      <th>Shirk my duties</th>\n",
       "      <th>Have frequent mood swings</th>\n",
       "      <th>Use difficult words</th>\n",
       "      <th>Don't mind being the center of attention</th>\n",
       "      <th>Feel others' emotions</th>\n",
       "      <th>Follow a schedule</th>\n",
       "      <th>Get irritated easily</th>\n",
       "      <th>Spend time reflecting on things</th>\n",
       "      <th>Am quiet around strangers</th>\n",
       "      <th>Make people feel at ease</th>\n",
       "      <th>Am exacting in my work</th>\n",
       "      <th>Often feel blue</th>\n",
       "      <th>Am full of ideas</th>\n",
       "      <th>See underlying patterns in complex situations</th>\n",
       "      <th>Don't  generate ideas that are new and different</th>\n",
       "      <th>Demonstrate an awareness of personal strengths and limitations</th>\n",
       "      <th>Display a growth mindset</th>\n",
       "      <th>Respond effectively to multiple priorities</th>\n",
       "      <th>Take initiative even when circumstances, objectives, or rules aren't clear</th>\n",
       "      <th>Encourage direct and open discussions</th>\n",
       "      <th>Respond effectively to multiple priorities.1</th>\n",
       "      <th>Take initiative even when circumstances, objectives, or rules aren't clear.1</th>\n",
       "      <th>Encourage direct and open discussions.1</th>\n",
       "      <th>Listen carefully to others</th>\n",
       "      <th>Don't persuasively sell a vision or idea</th>\n",
       "      <th>Build cooperative relationships</th>\n",
       "      <th>Work well with people from diverse cultural backgrounds</th>\n",
       "      <th>Effectively negotiate interests, resources, and roles</th>\n",
       "      <th>Can't rally people on the team around a common goal</th>\n",
       "      <th>Translate ideas into plans that are organized and realistic</th>\n",
       "      <th>Resolve conflicts constructively</th>\n",
       "      <th>Seek and use feedback from teammates</th>\n",
       "      <th>Coach teammates for performance and growth</th>\n",
       "      <th>Drive for results</th>\n",
       "      <th>What laptop do you currently have?</th>\n",
       "      <th>What laptop would you buy in next assuming if all laptops cost the same?</th>\n",
       "      <th>What program are you in?</th>\n",
       "      <th>What is your age?</th>\n",
       "      <th>Gender</th>\n",
       "      <th>What is your nationality?</th>\n",
       "      <th>What is your ethnicity?</th>\n",
       "      <th>question_1</th>\n",
       "      <th>question_2</th>\n",
       "      <th>question_3</th>\n",
       "    </tr>\n",
       "  </thead>\n",
       "  <tbody>\n",
       "    <tr>\n",
       "      <th>93</th>\n",
       "      <td>10093</td>\n",
       "      <td>1</td>\n",
       "      <td>2</td>\n",
       "      <td>3</td>\n",
       "      <td>1</td>\n",
       "      <td>3</td>\n",
       "      <td>5</td>\n",
       "      <td>4</td>\n",
       "      <td>5</td>\n",
       "      <td>5</td>\n",
       "      <td>1</td>\n",
       "      <td>3</td>\n",
       "      <td>3</td>\n",
       "      <td>3</td>\n",
       "      <td>4</td>\n",
       "      <td>4</td>\n",
       "      <td>5</td>\n",
       "      <td>5</td>\n",
       "      <td>2</td>\n",
       "      <td>5</td>\n",
       "      <td>1</td>\n",
       "      <td>3</td>\n",
       "      <td>5</td>\n",
       "      <td>2</td>\n",
       "      <td>5</td>\n",
       "      <td>5</td>\n",
       "      <td>5</td>\n",
       "      <td>4</td>\n",
       "      <td>1</td>\n",
       "      <td>2</td>\n",
       "      <td>5</td>\n",
       "      <td>1</td>\n",
       "      <td>2</td>\n",
       "      <td>3</td>\n",
       "      <td>4</td>\n",
       "      <td>5</td>\n",
       "      <td>5</td>\n",
       "      <td>3</td>\n",
       "      <td>3</td>\n",
       "      <td>2</td>\n",
       "      <td>1</td>\n",
       "      <td>1</td>\n",
       "      <td>5</td>\n",
       "      <td>3</td>\n",
       "      <td>1</td>\n",
       "      <td>5</td>\n",
       "      <td>5</td>\n",
       "      <td>4</td>\n",
       "      <td>5</td>\n",
       "      <td>1</td>\n",
       "      <td>5</td>\n",
       "      <td>5</td>\n",
       "      <td>5</td>\n",
       "      <td>5</td>\n",
       "      <td>1</td>\n",
       "      <td>3</td>\n",
       "      <td>5</td>\n",
       "      <td>1</td>\n",
       "      <td>5</td>\n",
       "      <td>5</td>\n",
       "      <td>5</td>\n",
       "      <td>5</td>\n",
       "      <td>5</td>\n",
       "      <td>5</td>\n",
       "      <td>5</td>\n",
       "      <td>5</td>\n",
       "      <td>5</td>\n",
       "      <td>5</td>\n",
       "      <td>5</td>\n",
       "      <td>5</td>\n",
       "      <td>2</td>\n",
       "      <td>5</td>\n",
       "      <td>Windows laptop</td>\n",
       "      <td>Macbook</td>\n",
       "      <td>DD (MIB &amp; Business Analytics)</td>\n",
       "      <td>24</td>\n",
       "      <td>Male</td>\n",
       "      <td>Indonesian</td>\n",
       "      <td>Far east Asian</td>\n",
       "      <td>2</td>\n",
       "      <td>0</td>\n",
       "      <td>4</td>\n",
       "    </tr>\n",
       "  </tbody>\n",
       "</table>\n",
       "</div>"
      ],
      "text/plain": [
       "    surveyID  Am the life of the party  Feel little concern for others  Am always prepared  Get stressed out easily  Have a rich vocabulary  Don't talk a lot  Am interested in people  Leave my belongings around  Am relaxed most of the time  Have difficulty understanding abstract ideas  Feel comfortable around people  Insult people  Pay attention to details  Worry about things  Have a vivid imagination  Keep in the background  Sympathize with others' feelings  Make a mess of things  Seldom feel blue  Am not interested in abstract ideas  Start conversations  Am not interested in other people's problems  Get chores done right away  Am easily disturbed  Have excellent ideas  Have little to say  Have a soft heart  Often forget to put things back in their proper place  Get upset easily  Do not have a good imagination  Talk to a lot of different people at parties  Am not really interested in others  Like order  Change my mood a lot  Am quick to understand things  \\\n",
       "93     10093                         1                               2                   3                        1                       3                 5                        4                           5                            5                                             1                               3              3                         3                   4                         4                       5                                 5                      2                 5                                    1                    3                                             5                           2                    5                     5                   5                  4                                                      1                 2                               5                                             1                                   2           3                     4                              5   \n",
       "\n",
       "    Don't like to draw attention to myself  Take time out for others  Shirk my duties  Have frequent mood swings  Use difficult words  Don't mind being the center of attention  Feel others' emotions  Follow a schedule  Get irritated easily  Spend time reflecting on things  Am quiet around strangers  Make people feel at ease  Am exacting in my work  Often feel blue  Am full of ideas  See underlying patterns in complex situations  Don't  generate ideas that are new and different  Demonstrate an awareness of personal strengths and limitations  Display a growth mindset  Respond effectively to multiple priorities  Take initiative even when circumstances, objectives, or rules aren't clear  Encourage direct and open discussions  Respond effectively to multiple priorities.1  Take initiative even when circumstances, objectives, or rules aren't clear.1  Encourage direct and open discussions.1  Listen carefully to others  Don't persuasively sell a vision or idea  \\\n",
       "93                                       5                         3                3                          2                    1                                         1                      5                  3                     1                                5                          5                         4                       5                1                 5                                              5                                                 5                                                               5                         1                                           3                                                                           5                                      1                                             5                                                                             5                                        5                           5                                         5   \n",
       "\n",
       "    Build cooperative relationships  Work well with people from diverse cultural backgrounds  Effectively negotiate interests, resources, and roles  Can't rally people on the team around a common goal  Translate ideas into plans that are organized and realistic  Resolve conflicts constructively  Seek and use feedback from teammates  Coach teammates for performance and growth  Drive for results What laptop do you currently have? What laptop would you buy in next assuming if all laptops cost the same?       What program are you in?  What is your age? Gender What is your nationality?  What is your ethnicity?  question_1  question_2  question_3  \n",
       "93                                5                                                        5                                                      5                                                    5                                                            5                                 5                                     5                                           2                  5                     Windows laptop                                                                  Macbook  DD (MIB & Business Analytics)                 24   Male                 Indonesian          Far east Asian           2           0           4  "
      ]
     },
     "execution_count": 76,
     "metadata": {},
     "output_type": "execute_result"
    }
   ],
   "source": [
    "# Checking which customer had discrepancies\n",
    "survey_result1.head (n=5) \n",
    "survey_result2.head (n=5)\n",
    "survey_result3.head (n=5)"
   ]
  },
  {
   "cell_type": "code",
   "execution_count": 77,
   "metadata": {},
   "outputs": [],
   "source": [
    "# dropping the respondent that had discrepancies\n",
    "survey = survey.drop(index=[93])"
   ]
  },
  {
   "cell_type": "markdown",
   "metadata": {},
   "source": [
    "We found that only one respondent had discrepancies in their answers. We remove their response."
   ]
  },
  {
   "cell_type": "markdown",
   "metadata": {},
   "source": [
    "<h3> Outlier Strategy <h/3>"
   ]
  },
  {
   "cell_type": "code",
   "execution_count": 78,
   "metadata": {
    "code_folding": [
     0
    ]
   },
   "outputs": [
    {
     "data": {
      "image/png": "[encoded data removed]",
      "text/plain": [
       "<Figure size 432x288 with 1 Axes>"
      ]
     },
     "metadata": {
      "needs_background": "light"
     },
     "output_type": "display_data"
    }
   ],
   "source": [
    "# Reviewing personality respond questions: \n",
    "survey_df_noage = survey.drop(columns=['What is your age?', 'surveyID'], axis = 1)\n",
    "#removing the age so it wont be added to the total column \n",
    "survey.loc[:,'Total'] = survey_df_noage.sum(numeric_only=True, axis=1)\n",
    "plt.hist(survey['Total'])\n",
    "plt.show()"
   ]
  },
  {
   "cell_type": "code",
   "execution_count": 79,
   "metadata": {
    "code_folding": [
     0
    ]
   },
   "outputs": [],
   "source": [
    "## Outliers: \n",
    "responses_hi = 280\n",
    "survey['out_responses'] = 0\n",
    "\n",
    "\n",
    "# looping over one column  to change another \n",
    "for index, resp in survey.loc[ : , : ].iterrows():\n",
    "\n",
    "    # setting conditional \n",
    "    if survey.loc[ index , 'Total'] > responses_hi: \n",
    "        # changing outlier flag\n",
    "        survey.loc[ index , 'out_responses'] = 1"
   ]
  },
  {
   "cell_type": "code",
   "execution_count": 80,
   "metadata": {},
   "outputs": [
    {
     "data": {
      "text/html": [
       "<div>\n",
       "<style scoped>\n",
       "    .dataframe tbody tr th:only-of-type {\n",
       "        vertical-align: middle;\n",
       "    }\n",
       "\n",
       "    .dataframe tbody tr th {\n",
       "        vertical-align: top;\n",
       "    }\n",
       "\n",
       "    .dataframe thead th {\n",
       "        text-align: right;\n",
       "    }\n",
       "</style>\n",
       "<table border=\"1\" class=\"dataframe\">\n",
       "  <thead>\n",
       "    <tr style=\"text-align: right;\">\n",
       "      <th></th>\n",
       "      <th>surveyID</th>\n",
       "      <th>Am the life of the party</th>\n",
       "      <th>Feel little concern for others</th>\n",
       "      <th>Am always prepared</th>\n",
       "      <th>Get stressed out easily</th>\n",
       "      <th>Have a rich vocabulary</th>\n",
       "      <th>Don't talk a lot</th>\n",
       "      <th>Am interested in people</th>\n",
       "      <th>Leave my belongings around</th>\n",
       "      <th>Am relaxed most of the time</th>\n",
       "      <th>Have difficulty understanding abstract ideas</th>\n",
       "      <th>Feel comfortable around people</th>\n",
       "      <th>Insult people</th>\n",
       "      <th>Pay attention to details</th>\n",
       "      <th>Worry about things</th>\n",
       "      <th>Have a vivid imagination</th>\n",
       "      <th>Keep in the background</th>\n",
       "      <th>Sympathize with others' feelings</th>\n",
       "      <th>Make a mess of things</th>\n",
       "      <th>Seldom feel blue</th>\n",
       "      <th>Am not interested in abstract ideas</th>\n",
       "      <th>Start conversations</th>\n",
       "      <th>Am not interested in other people's problems</th>\n",
       "      <th>Get chores done right away</th>\n",
       "      <th>Am easily disturbed</th>\n",
       "      <th>Have excellent ideas</th>\n",
       "      <th>Have little to say</th>\n",
       "      <th>Have a soft heart</th>\n",
       "      <th>Often forget to put things back in their proper place</th>\n",
       "      <th>Get upset easily</th>\n",
       "      <th>Do not have a good imagination</th>\n",
       "      <th>Talk to a lot of different people at parties</th>\n",
       "      <th>Am not really interested in others</th>\n",
       "      <th>Like order</th>\n",
       "      <th>Change my mood a lot</th>\n",
       "      <th>Am quick to understand things</th>\n",
       "      <th>Don't like to draw attention to myself</th>\n",
       "      <th>Take time out for others</th>\n",
       "      <th>Shirk my duties</th>\n",
       "      <th>Have frequent mood swings</th>\n",
       "      <th>Use difficult words</th>\n",
       "      <th>Don't mind being the center of attention</th>\n",
       "      <th>Feel others' emotions</th>\n",
       "      <th>Follow a schedule</th>\n",
       "      <th>Get irritated easily</th>\n",
       "      <th>Spend time reflecting on things</th>\n",
       "      <th>Am quiet around strangers</th>\n",
       "      <th>Make people feel at ease</th>\n",
       "      <th>Am exacting in my work</th>\n",
       "      <th>Often feel blue</th>\n",
       "      <th>Am full of ideas</th>\n",
       "      <th>See underlying patterns in complex situations</th>\n",
       "      <th>Don't  generate ideas that are new and different</th>\n",
       "      <th>Demonstrate an awareness of personal strengths and limitations</th>\n",
       "      <th>Display a growth mindset</th>\n",
       "      <th>Respond effectively to multiple priorities</th>\n",
       "      <th>Take initiative even when circumstances, objectives, or rules aren't clear</th>\n",
       "      <th>Encourage direct and open discussions</th>\n",
       "      <th>Respond effectively to multiple priorities.1</th>\n",
       "      <th>Take initiative even when circumstances, objectives, or rules aren't clear.1</th>\n",
       "      <th>Encourage direct and open discussions.1</th>\n",
       "      <th>Listen carefully to others</th>\n",
       "      <th>Don't persuasively sell a vision or idea</th>\n",
       "      <th>Build cooperative relationships</th>\n",
       "      <th>Work well with people from diverse cultural backgrounds</th>\n",
       "      <th>Effectively negotiate interests, resources, and roles</th>\n",
       "      <th>Can't rally people on the team around a common goal</th>\n",
       "      <th>Translate ideas into plans that are organized and realistic</th>\n",
       "      <th>Resolve conflicts constructively</th>\n",
       "      <th>Seek and use feedback from teammates</th>\n",
       "      <th>Coach teammates for performance and growth</th>\n",
       "      <th>Drive for results</th>\n",
       "      <th>What laptop do you currently have?</th>\n",
       "      <th>What laptop would you buy in next assuming if all laptops cost the same?</th>\n",
       "      <th>What program are you in?</th>\n",
       "      <th>What is your age?</th>\n",
       "      <th>Gender</th>\n",
       "      <th>What is your nationality?</th>\n",
       "      <th>What is your ethnicity?</th>\n",
       "      <th>question_1</th>\n",
       "      <th>question_2</th>\n",
       "      <th>question_3</th>\n",
       "      <th>Total</th>\n",
       "      <th>out_responses</th>\n",
       "    </tr>\n",
       "  </thead>\n",
       "  <tbody>\n",
       "    <tr>\n",
       "      <th>91</th>\n",
       "      <td>10091</td>\n",
       "      <td>5</td>\n",
       "      <td>5</td>\n",
       "      <td>2</td>\n",
       "      <td>5</td>\n",
       "      <td>2</td>\n",
       "      <td>5</td>\n",
       "      <td>5</td>\n",
       "      <td>5</td>\n",
       "      <td>5</td>\n",
       "      <td>4</td>\n",
       "      <td>4</td>\n",
       "      <td>4</td>\n",
       "      <td>4</td>\n",
       "      <td>4</td>\n",
       "      <td>4</td>\n",
       "      <td>4</td>\n",
       "      <td>5</td>\n",
       "      <td>4</td>\n",
       "      <td>4</td>\n",
       "      <td>4</td>\n",
       "      <td>4</td>\n",
       "      <td>4</td>\n",
       "      <td>4</td>\n",
       "      <td>4</td>\n",
       "      <td>4</td>\n",
       "      <td>4</td>\n",
       "      <td>4</td>\n",
       "      <td>4</td>\n",
       "      <td>5</td>\n",
       "      <td>3</td>\n",
       "      <td>4</td>\n",
       "      <td>1</td>\n",
       "      <td>4</td>\n",
       "      <td>4</td>\n",
       "      <td>4</td>\n",
       "      <td>5</td>\n",
       "      <td>4</td>\n",
       "      <td>4</td>\n",
       "      <td>4</td>\n",
       "      <td>4</td>\n",
       "      <td>4</td>\n",
       "      <td>5</td>\n",
       "      <td>4</td>\n",
       "      <td>5</td>\n",
       "      <td>5</td>\n",
       "      <td>4</td>\n",
       "      <td>5</td>\n",
       "      <td>5</td>\n",
       "      <td>5</td>\n",
       "      <td>4</td>\n",
       "      <td>5</td>\n",
       "      <td>5</td>\n",
       "      <td>5</td>\n",
       "      <td>4</td>\n",
       "      <td>5</td>\n",
       "      <td>4</td>\n",
       "      <td>5</td>\n",
       "      <td>4</td>\n",
       "      <td>4</td>\n",
       "      <td>5</td>\n",
       "      <td>4</td>\n",
       "      <td>4</td>\n",
       "      <td>5</td>\n",
       "      <td>5</td>\n",
       "      <td>4</td>\n",
       "      <td>4</td>\n",
       "      <td>3</td>\n",
       "      <td>4</td>\n",
       "      <td>4</td>\n",
       "      <td>4</td>\n",
       "      <td>4</td>\n",
       "      <td>Macbook</td>\n",
       "      <td>Windows laptop</td>\n",
       "      <td>One year Business Analytics</td>\n",
       "      <td>24</td>\n",
       "      <td>Male</td>\n",
       "      <td>China</td>\n",
       "      <td>Far east Asian</td>\n",
       "      <td>1</td>\n",
       "      <td>0</td>\n",
       "      <td>0</td>\n",
       "      <td>300</td>\n",
       "      <td>1</td>\n",
       "    </tr>\n",
       "  </tbody>\n",
       "</table>\n",
       "</div>"
      ],
      "text/plain": [
       "    surveyID  Am the life of the party  Feel little concern for others  Am always prepared  Get stressed out easily  Have a rich vocabulary  Don't talk a lot  Am interested in people  Leave my belongings around  Am relaxed most of the time  Have difficulty understanding abstract ideas  Feel comfortable around people  Insult people  Pay attention to details  Worry about things  Have a vivid imagination  Keep in the background  Sympathize with others' feelings  Make a mess of things  Seldom feel blue  Am not interested in abstract ideas  Start conversations  Am not interested in other people's problems  Get chores done right away  Am easily disturbed  Have excellent ideas  Have little to say  Have a soft heart  Often forget to put things back in their proper place  Get upset easily  Do not have a good imagination  Talk to a lot of different people at parties  Am not really interested in others  Like order  Change my mood a lot  Am quick to understand things  \\\n",
       "91     10091                         5                               5                   2                        5                       2                 5                        5                           5                            5                                             4                               4              4                         4                   4                         4                       4                                 5                      4                 4                                    4                    4                                             4                           4                    4                     4                   4                  4                                                      4                 5                               3                                             4                                   1           4                     4                              4   \n",
       "\n",
       "    Don't like to draw attention to myself  Take time out for others  Shirk my duties  Have frequent mood swings  Use difficult words  Don't mind being the center of attention  Feel others' emotions  Follow a schedule  Get irritated easily  Spend time reflecting on things  Am quiet around strangers  Make people feel at ease  Am exacting in my work  Often feel blue  Am full of ideas  See underlying patterns in complex situations  Don't  generate ideas that are new and different  Demonstrate an awareness of personal strengths and limitations  Display a growth mindset  Respond effectively to multiple priorities  Take initiative even when circumstances, objectives, or rules aren't clear  Encourage direct and open discussions  Respond effectively to multiple priorities.1  Take initiative even when circumstances, objectives, or rules aren't clear.1  Encourage direct and open discussions.1  Listen carefully to others  Don't persuasively sell a vision or idea  \\\n",
       "91                                       5                         4                4                          4                    4                                         4                      5                  4                     5                                5                          4                         5                       5                5                 4                                              5                                                 5                                                               5                         4                                           5                                                                           4                                      5                                             4                                                                             4                                        5                           4                                         4   \n",
       "\n",
       "    Build cooperative relationships  Work well with people from diverse cultural backgrounds  Effectively negotiate interests, resources, and roles  Can't rally people on the team around a common goal  Translate ideas into plans that are organized and realistic  Resolve conflicts constructively  Seek and use feedback from teammates  Coach teammates for performance and growth  Drive for results What laptop do you currently have? What laptop would you buy in next assuming if all laptops cost the same?     What program are you in?  What is your age? Gender What is your nationality?  What is your ethnicity?  question_1  question_2  question_3  Total  out_responses  \n",
       "91                                5                                                        5                                                      4                                                    4                                                            3                                 4                                     4                                           4                  4                            Macbook                                                           Windows laptop  One year Business Analytics                 24   Male                      China          Far east Asian           1           0           0    300              1  "
      ]
     },
     "execution_count": 80,
     "metadata": {},
     "output_type": "execute_result"
    }
   ],
   "source": [
    "survey.loc[:,:][survey.loc[:,'out_responses'] ==1]\n"
   ]
  },
  {
   "cell_type": "markdown",
   "metadata": {},
   "source": [
    "We have identified the outlier and we assuming this person not to be very cooperative and that he/she might have rated all the responses the same numbers or almost the same due to laziness or other reasons. \n",
    "\n",
    "However, after analyzing his responses and looking at both his categorical and interval variables we have concluded that the answers can be considered valid and reliable as the categorical variables appear to be truthful as they are filled out correctly, and the interval variables have mixed numbers, even though the majority of the responses are 4s and 5s. Therefore, we have decided not to drop this outlier as it constitutes valuable data for the analysis."
   ]
  },
  {
   "cell_type": "markdown",
   "metadata": {},
   "source": [
    "<h3>Age<h/3>"
   ]
  },
  {
   "cell_type": "code",
   "execution_count": 81,
   "metadata": {},
   "outputs": [
    {
     "name": "stderr",
     "output_type": "stream",
     "text": [
      "/Users/aminderpalkaur/opt/anaconda3/lib/python3.8/site-packages/seaborn/distributions.py:2551: FutureWarning: `distplot` is a deprecated function and will be removed in a future version. Please adapt your code to use either `displot` (a figure-level function with similar flexibility) or `histplot` (an axes-level function for histograms).\n",
      "  warnings.warn(msg, FutureWarning)\n"
     ]
    },
    {
     "data": {
      "image/png": "[encoded data removed]",
      "text/plain": [
       "<Figure size 432x288 with 1 Axes>"
      ]
     },
     "metadata": {
      "needs_background": "light"
     },
     "output_type": "display_data"
    }
   ],
   "source": [
    "# to have a better understanding of the demographic data, we decided to devide\n",
    "# the age variable into 4 groups.\n",
    "\n",
    "# STEP 1: Creating an histogram to see the age distribution. \n",
    "sns.distplot(a = survey['What is your age?'],\n",
    "                 hist = True,\n",
    "                 kde = True)\n",
    "    \n",
    "plt.tight_layout()\n",
    "plt.show()"
   ]
  },
  {
   "cell_type": "markdown",
   "metadata": {},
   "source": [
    "As we can see the age of our respondents is distributed from 21 to 49 years old. The majority is from 23-27 which is usually the age of graduate students. We separated the respondent in 4 age groups."
   ]
  },
  {
   "cell_type": "code",
   "execution_count": 82,
   "metadata": {
    "code_folding": [
     0
    ]
   },
   "outputs": [
    {
     "name": "stdout",
     "output_type": "stream",
     "text": [
      "\n",
      "Age Group\n",
      "------\n",
      "25 - 30    65\n",
      "30 - 35    17\n",
      "< 25       43\n",
      ">=35       10\n",
      "Name: age_group, dtype: int64\n",
      "\n",
      "\n"
     ]
    }
   ],
   "source": [
    "# STEP 2: # Dividing age into the categories\n",
    "age_lst = []\n",
    "\n",
    "for row,col in survey.iterrows():\n",
    "    if survey.loc[row,'What is your age?'] < 25:\n",
    "        age_lst.append('< 25')\n",
    "    elif survey.loc[row,'What is your age?'] >=25 and survey.loc[row,'What is your age?'] < 30:   \n",
    "        age_lst.append('25 - 30')\n",
    "    elif survey.loc[row,'What is your age?'] >=30 and survey.loc[row,'What is your age?'] < 35: \n",
    "        age_lst.append('30 - 35')\n",
    "    else:\n",
    "        age_lst.append('>=35')\n",
    "\n",
    "# Adding new variable to dataset\n",
    "survey['age_group'] = pd.Series(age_lst)\n",
    "\n",
    "# STEP 3: Checking the dataset with the new categorical variables \n",
    "survey.head(n=5)\n",
    "\n",
    "print(f\"\"\"\n",
    "Age Group\n",
    "------\n",
    "{survey['age_group'].value_counts().sort_index()}\n",
    "\n",
    "\"\"\")"
   ]
  },
  {
   "cell_type": "markdown",
   "metadata": {},
   "source": [
    "<h3>Master Program<h/3>"
   ]
  },
  {
   "cell_type": "code",
   "execution_count": 83,
   "metadata": {
    "code_folding": [
     0
    ]
   },
   "outputs": [
    {
     "data": {
      "text/plain": [
       "<AxesSubplot:xlabel='count', ylabel='What program are you in?'>"
      ]
     },
     "execution_count": 83,
     "metadata": {},
     "output_type": "execute_result"
    },
    {
     "data": {
      "image/png": "[encoded data removed]",
      "text/plain": [
       "<Figure size 432x288 with 1 Axes>"
      ]
     },
     "metadata": {
      "needs_background": "light"
     },
     "output_type": "display_data"
    }
   ],
   "source": [
    "# To have a better understanding of the demographic data, we decided to group \n",
    "# the responders into the master they're attenting. \n",
    "\n",
    "# STEP 1: Creating an histogram to see the master distribution. \n",
    "sns.countplot(y='What program are you in?',data=survey)"
   ]
  },
  {
   "cell_type": "markdown",
   "metadata": {},
   "source": [
    "As we can see on the graph the majority of the students are from Dual Degree programs (MIB + MSBA) and (MBA + MSBA). The program with the fewer repsondent is the dual degree in MBA and MDI"
   ]
  },
  {
   "cell_type": "code",
   "execution_count": 84,
   "metadata": {
    "code_folding": [
     0
    ]
   },
   "outputs": [
    {
     "name": "stdout",
     "output_type": "stream",
     "text": [
      "\n",
      "Master Group\n",
      "------\n",
      "DD: MBA + MDI      1\n",
      "DD: MBA + MSBA    34\n",
      "DD: MIB + MSBA    64\n",
      "MSBA              36\n",
      "Name: master_group, dtype: int64\n",
      "\n",
      "\n"
     ]
    }
   ],
   "source": [
    "# STEP 2: # Dividing master into the categories\n",
    "master_lst = []\n",
    "\n",
    "for row,col in survey.iterrows():\n",
    "    if survey.loc[row,'What program are you in?'] == 'DD (MIB & Business Analytics)':\n",
    "        master_lst.append('DD: MIB + MSBA')\n",
    "    elif survey.loc[row, 'What program are you in?'] == 'One year Business Analytics':   \n",
    "        master_lst.append('MSBA')\n",
    "    elif survey.loc[row,'What program are you in?'] =='DD (MBA & Disruptive innovation)': \n",
    "        master_lst.append('DD: MBA + MDI')\n",
    "    else:\n",
    "        master_lst.append('DD: MBA + MSBA')\n",
    "\n",
    "# Adding new variable to dataset\n",
    "survey['master_group'] = pd.Series(master_lst)\n",
    "\n",
    "# STEP 3: Checking the dataset with the new categorical variables \n",
    "survey.head(n=5)\n",
    "\n",
    "print(f\"\"\"\n",
    "Master Group\n",
    "------\n",
    "{survey['master_group'].value_counts().sort_index()}\n",
    "\n",
    "\"\"\")"
   ]
  },
  {
   "cell_type": "markdown",
   "metadata": {},
   "source": [
    "<h3>Nationality Variable<h/3>"
   ]
  },
  {
   "cell_type": "code",
   "execution_count": 85,
   "metadata": {},
   "outputs": [],
   "source": [
    "survey['What is your nationality? '] = survey['What is your nationality? '].str.lower()"
   ]
  },
  {
   "cell_type": "code",
   "execution_count": 86,
   "metadata": {
    "code_folding": []
   },
   "outputs": [],
   "source": [
    "#survey['What is your nationality? '].value_counts()"
   ]
  },
  {
   "cell_type": "markdown",
   "metadata": {},
   "source": [
    "We decided to divide the nationalities based on the data published in 2017 by the United Nations International Telecommunication Union, the countries have been divided into different levels - below 2, 2 - 4 , 4-6,6-8 and above 8.\n",
    "Where the countries that have below 2 are the worst and above 8 are the best. \n",
    "In the data some countries data have not been provided so its labeled as no_value or if the person didnt fill their country it is also no_value.\n",
    "\n",
    "This metric tracks the each country's technological/ telecommunication advancement. It's used bu governement and researcher to compare countries based on ICT development index.\n",
    "link to site :https://www.mapsofworld.com/answers/world/nations-rank-high-terms-information-communication-technology/#"
   ]
  },
  {
   "cell_type": "raw",
   "metadata": {},
   "source": [
    "# Classifying each contries according to ICT score\n",
    "indian                  3.04    2_4\n",
    "china                   5.6     4_6\n",
    "german                   8.39   above_8\n",
    "mexican                  5.16.  4_6\n",
    "peruvian                 4.85       4_6\n",
    "colombian                5.36      4_6\n",
    "chinese                  5.6       4_6\n",
    "italian                  7.04      6_8\n",
    "usa                      8.18       above_8\n",
    "american                 8.18       above_8\n",
    "taiwan                   -          no value\n",
    "norwegian                8.47       above_8\n",
    "russian                  7.07       6_8\n",
    "brazilian                6.12       6_8\n",
    "nigerian                 2.60       2_4\n",
    "thai                     5.67       4_6\n",
    "ecuador                  -\n",
    "turkish                  6.0        6_8\n",
    "vietnamese               4.43       4_6\n",
    "russia                   7.07\n",
    "brazil                   6.12\n",
    "republic of korea        8.85       above_8\n",
    "indonesian               4.43       4_6\n",
    "peru                     4.85       4_6\n",
    "south korea              8.85\n",
    "ecuadorian               -\n",
    "indian.                  3.04\n",
    "ukrainian                5.62        4_6\n",
    "belarus                  7.55        6_8\n",
    "colombia                 5.36\n",
    "kyrgyz                   4.37        \n",
    "korea                    8.85\n",
    "belgian                  -\n",
    "czech republic           7.16\n",
    "ugandan                  2.19\n",
    "czech                    \n",
    "pakistani                2.42\n",
    "italian and spanish      -\n",
    "nigeria                  2.60\n",
    "congolese (dr congo)     1.55\n",
    "filipino                 4.67\n",
    "canadian                 7.77\n",
    "panama                   4.91\n",
    "dominican                4.51\n",
    "philippines              4.67\n",
    "mauritius                5.88\n",
    "japan                    8.43\n",
    "costarrican              6.44\n",
    "portuguese               7.13\n",
    "british                  8.65\n",
    "canada                   7.77\n",
    "spain                    7.79\n",
    "indonesia                4.43\n",
    "swiss                    8.74\n",
    "congolese                1.55\n",
    "dominican                \n",
    "spanish                  \n",
    "venezuelan               -\n",
    "germany                  \n",
    "british, indian          -\n",
    "kenyan                   2.91\n",
    "german/american          -\n",
    "prefer not to answer     -\n",
    "ghanaian                 -"
   ]
  },
  {
   "cell_type": "code",
   "execution_count": 87,
   "metadata": {
    "code_folding": [
     0
    ]
   },
   "outputs": [],
   "source": [
    "#creating a duplicate column \n",
    "survey.loc[:, 'ict '] = survey.loc[:, 'What is your nationality? ']"
   ]
  },
  {
   "cell_type": "code",
   "execution_count": 88,
   "metadata": {
    "code_folding": []
   },
   "outputs": [],
   "source": [
    "# Assigning  ICT scores for each country\n",
    "survey['ict '] = survey['ict '].replace(['indian'],'2_4')\n",
    "survey['ict '] = survey['ict '].replace(['china'],'4_6')\n",
    "survey['ict '] = survey['ict '].replace(['german'],'above_8')\n",
    "survey['ict '] = survey['ict '].replace(['mexican'],'4_6')\n",
    "survey['ict '] = survey['ict '].replace(['peruvian'],'4_6')\n",
    "survey['ict '] = survey['ict '].replace(['colombian'],'4_6')\n",
    "survey['ict '] = survey['ict '].replace(['chinese'],'4_6')\n",
    "survey['ict '] = survey['ict '].replace(['italian'],'4_6')\n",
    "survey['ict '] = survey['ict '].replace(['usa'],'above_8')\n",
    "survey['ict '] = survey['ict '].replace(['american'],'above_8')\n",
    "survey['ict '] = survey['ict '].replace(['taiwan'],'no_value')\n",
    "survey['ict '] = survey['ict '].replace(['norwegian'],'above_8')\n",
    "survey['ict '] = survey['ict '].replace(['russian'],'6_8')\n",
    "survey['ict '] = survey['ict '].replace(['brazilian'],'6_8')\n",
    "survey['ict '] = survey['ict '].replace(['nigerian'],'2_4')\n",
    "survey['ict '] = survey['ict '].replace(['thai'],'4_6')\n",
    "survey['ict '] = survey['ict '].replace(['ecuador'],'no_value')\n",
    "survey['ict '] = survey['ict '].replace(['turkish'],'6_8')\n",
    "survey['ict '] = survey['ict '].replace(['vietnamese'],'4_6')\n",
    "survey['ict '] = survey['ict '].replace(['russia'],'6_8')\n",
    "survey['ict '] = survey['ict '].replace(['brazil'],'6_8')\n",
    "survey['ict '] = survey['ict '].replace(['republic of korea'],'above_8')\n",
    "survey['ict '] = survey['ict '].replace(['indonesian'],'4_6')\n",
    "survey['ict '] = survey['ict '].replace(['peru'],'4_6')\n",
    "survey['ict '] = survey['ict '].replace(['south korea'],'above_8')\n",
    "survey['ict '] = survey['ict '].replace(['ecuadorian'],'no_value')\n",
    "survey['ict '] = survey['ict '].replace(['indian.'],'2_4')\n",
    "survey['ict '] = survey['ict '].replace(['ukrainian'],'4_6')\n",
    "survey['ict '] = survey['ict '].replace(['belarus'],'6_8')\n",
    "survey['ict '] = survey['ict '].replace(['colombia'],'4_6')\n",
    "survey['ict '] = survey['ict '].replace(['kyrgyz'],'4_6')\n",
    "survey['ict '] = survey['ict '].replace(['korea'],'above_8')\n",
    "survey['ict '] = survey['ict '].replace(['belgian'],'no_value')\n",
    "survey['ict '] = survey['ict '].replace(['czech republic'],'6_8')\n",
    "survey['ict '] = survey['ict '].replace(['ugandan'],'2_4')\n",
    "survey['ict '] = survey['ict '].replace(['czech'],'6_8')\n",
    "survey['ict '] = survey['ict '].replace(['pakistani'],'2_4')\n",
    "survey['ict '] = survey['ict '].replace(['italian and spanish'],'no_value')\n",
    "survey['ict '] = survey['ict '].replace(['nigeria'],'2_4')\n",
    "survey['ict '] = survey['ict '].replace(['congolese (dr congo)'],'below_2')\n",
    "survey['ict '] = survey['ict '].replace(['filipino'],'4_6')\n",
    "survey['ict '] = survey['ict '].replace(['canadian'],'6_8')\n",
    "survey['ict '] = survey['ict '].replace(['panama'],'4_6')\n",
    "survey['ict '] = survey['ict '].replace(['dominican '],'4_6')\n",
    "survey['ict '] = survey['ict '].replace(['philippines'],'4_6')\n",
    "survey['ict '] = survey['ict '].replace(['mauritius'],'4_6')\n",
    "survey['ict '] = survey['ict '].replace(['japan'],'above_8')\n",
    "survey['ict '] = survey['ict '].replace(['costarrican'],'6_8')\n",
    "survey['ict '] = survey['ict '].replace(['portuguese'],'6_8')\n",
    "survey['ict '] = survey['ict '].replace(['british'],'above_8')\n",
    "survey['ict '] = survey['ict '].replace(['canada'],'6_8')\n",
    "survey['ict '] = survey['ict '].replace(['spain'],'6_8')\n",
    "survey['ict '] = survey['ict '].replace(['indonesia'],'4_6')\n",
    "survey['ict '] = survey['ict '].replace(['swiss'],'above_8')\n",
    "survey['ict '] = survey['ict '].replace(['congolese'],'below_2')\n",
    "survey['ict '] = survey['ict '].replace(['dominican'],'4_6')\n",
    "survey['ict '] = survey['ict '].replace(['spanish'],'6_8')\n",
    "survey['ict '] = survey['ict '].replace(['venezuelan'],'no_value')\n",
    "survey['ict '] = survey['ict '].replace(['germany'],'above_8')\n",
    "survey['ict '] = survey['ict '].replace(['british, indian'],'no_value')\n",
    "survey['ict '] = survey['ict '].replace(['kenyan'],'2_4')\n",
    "survey['ict '] = survey['ict '].replace(['german/american'],'no_value')\n",
    "survey['ict '] = survey['ict '].replace(['prefer not to answer'],'no_value')\n",
    "survey['ict '] = survey['ict '].replace(['ghanaian'],'no_value')"
   ]
  },
  {
   "cell_type": "markdown",
   "metadata": {},
   "source": [
    "### Nationality Part II\n"
   ]
  },
  {
   "cell_type": "markdown",
   "metadata": {},
   "source": [
    "Instead of looking at each respondent's nationality we separated them based on which continents they are from. Based on this list https://simple.wikipedia.org/wiki/List_of_countries_by_continents.\n",
    "We created a new column called continents to better represnet where each respondent is from."
   ]
  },
  {
   "cell_type": "code",
   "execution_count": 89,
   "metadata": {
    "code_folding": [
     0
    ]
   },
   "outputs": [],
   "source": [
    "#creating a duplicate column \n",
    "survey.loc[:, 'continents '] = survey.loc[:, 'What is your nationality? ']"
   ]
  },
  {
   "cell_type": "code",
   "execution_count": 90,
   "metadata": {
    "code_folding": []
   },
   "outputs": [],
   "source": [
    "# Assigning  continents for each Nationality\n",
    "survey['continents '] = survey['continents '].replace(['Asian'],'indian')\n",
    "survey['continents '] = survey['continents '].replace(['china'],'Asian')\n",
    "survey['continents '] = survey['continents '].replace(['german'],'European')\n",
    "survey['continents '] = survey['continents '].replace(['mexican'],'N_American')\n",
    "survey['continents '] = survey['continents '].replace(['peruvian'],'S_American')\n",
    "survey['continents '] = survey['continents '].replace(['colombian'],'S_American')\n",
    "survey['continents '] = survey['continents '].replace(['chinese'],'Asian')\n",
    "survey['continents '] = survey['continents '].replace(['italian'],'European')\n",
    "survey['continents '] = survey['continents '].replace(['usa'],'N_American')\n",
    "survey['continents '] = survey['continents '].replace(['american'],'N_American')\n",
    "survey['continents '] = survey['continents '].replace(['taiwan'],'Asian')\n",
    "survey['continents '] = survey['continents '].replace(['norwegian'],'European')\n",
    "survey['continents '] = survey['continents '].replace(['russian'],'European')\n",
    "survey['continents '] = survey['continents '].replace(['brazilian'],'S_American')\n",
    "survey['continents '] = survey['continents '].replace(['nigerian'],'African')\n",
    "survey['continents '] = survey['continents '].replace(['thai'],'Asian')\n",
    "survey['continents '] = survey['continents '].replace(['ecuador'],'S_American')\n",
    "survey['continents '] = survey['continents '].replace(['turkish'],'European')\n",
    "survey['continents '] = survey['continents '].replace(['vietnamese'],'Asian')\n",
    "survey['continents '] = survey['continents '].replace(['russia'],'European')\n",
    "survey['continents '] = survey['continents '].replace(['brazil'],'S_American')\n",
    "survey['continents '] = survey['continents '].replace(['republic of korea'],'Asian')\n",
    "survey['continents '] = survey['continents '].replace(['indonesian'],'Asian')\n",
    "survey['continents '] = survey['continents '].replace(['peru'],'S_American')\n",
    "survey['continents '] = survey['continents '].replace(['south korea'],'Asian')\n",
    "survey['continents '] = survey['continents '].replace(['ecuadorian'],'S_American')\n",
    "survey['continents '] = survey['continents '].replace(['indian.'],'Asian')\n",
    "survey['continents '] = survey['continents '].replace(['ukrainian'],'European')\n",
    "survey['continents '] = survey['continents '].replace(['belarus'],'European')\n",
    "survey['continents '] = survey['continents '].replace(['colombia'],'S_American')\n",
    "survey['continents '] = survey['continents '].replace(['kyrgyz'],'Asian')\n",
    "survey['continents '] = survey['continents '].replace(['korea'],'Asian')\n",
    "survey['continents '] = survey['continents '].replace(['belgian'],'European')\n",
    "survey['continents '] = survey['continents '].replace(['czech republic'],'European')\n",
    "survey['continents '] = survey['continents '].replace(['ugandan'],'African')\n",
    "survey['continents '] = survey['continents '].replace(['czech'],'European')\n",
    "survey['continents '] = survey['continents '].replace(['pakistani'],'Asian')\n",
    "survey['continents '] = survey['continents '].replace(['italian and spanish'],'dual')\n",
    "survey['continents '] = survey['continents '].replace(['nigeria'],'African')\n",
    "survey['continents '] = survey['continents '].replace(['congolese (dr congo)'],'African')\n",
    "survey['continents '] = survey['continents '].replace(['filipino'],'Asian')\n",
    "survey['continents '] = survey['continents '].replace(['canadian'],'N_American')\n",
    "survey['continents '] = survey['continents '].replace(['panama'],'N_American')\n",
    "survey['continents '] = survey['continents '].replace(['dominican'],'N_American')\n",
    "survey['continents '] = survey['continents '].replace(['philippines'],'Asian')\n",
    "survey['continents '] = survey['continents '].replace(['mauritius'],'African')\n",
    "survey['continents '] = survey['continents '].replace(['japan'],'Asian')\n",
    "survey['continents '] = survey['continents '].replace(['costarrican'],'N_American')\n",
    "survey['continents '] = survey['continents '].replace(['portuguese'],'European')\n",
    "survey['continents '] = survey['continents '].replace(['british'],'European')\n",
    "survey['continents '] = survey['continents '].replace(['canada'],'N_American')\n",
    "survey['continents '] = survey['continents '].replace(['spain'],'European')\n",
    "survey['continents '] = survey['continents '].replace(['indonesia'],'Asian')\n",
    "survey['continents '] = survey['continents '].replace(['swiss'],'European')\n",
    "survey['continents '] = survey['continents '].replace(['congolese'],'African')\n",
    "survey['continents '] = survey['continents '].replace(['dominican'],'N_American')\n",
    "survey['continents '] = survey['continents '].replace(['spanish'],'European')\n",
    "survey['continents '] = survey['continents '].replace(['venezuelan'],'S_American')\n",
    "survey['continents '] = survey['continents '].replace(['germany'],'European')\n",
    "survey['continents '] = survey['continents '].replace(['british, indian'],'dual')\n",
    "survey['continents '] = survey['continents '].replace(['kenyan'],'African')\n",
    "survey['continents '] = survey['continents '].replace(['german/american'],'dual')\n",
    "survey['continents '] = survey['continents '].replace(['prefer not to answer'],'no_value')\n",
    "survey['continents '] = survey['continents '].replace(['ghanaian'],'African')"
   ]
  },
  {
   "cell_type": "markdown",
   "metadata": {},
   "source": [
    "### Combining Mac and Macbook\n"
   ]
  },
  {
   "cell_type": "code",
   "execution_count": 91,
   "metadata": {
    "code_folding": [
     0
    ]
   },
   "outputs": [],
   "source": [
    "# Combining 'Mac' and 'Macbook': \n",
    "def change_mac (column):\n",
    "    survey[column]=survey[column].replace(to_replace=\"Mac\",value=\"Macbook\")\n",
    "\n",
    "change_mac ([\"What laptop do you currently have?\",\n",
    "             \"What laptop would you buy in next assuming if all laptops cost the same?\"])"
   ]
  },
  {
   "cell_type": "markdown",
   "metadata": {},
   "source": [
    "## Calculating Big 5 and Hult DNA scores"
   ]
  },
  {
   "cell_type": "code",
   "execution_count": 92,
   "metadata": {
    "code_folding": [
     0
    ]
   },
   "outputs": [],
   "source": [
    "# Calculating the Big 5 personality and Hult DNA scores\n",
    "\n",
    "# Empty List for big 5 personalities\n",
    "survey['agreeableness'] = 0\n",
    "survey['extroversion'] = 0\n",
    "survey['conscientiousness'] = 0\n",
    "survey['neuroticism'] = 0\n",
    "survey['openness to experience'] = 0\n",
    "\n",
    "#Hult DNA\n",
    "survey['thinking'] = 0\n",
    "survey['communicating'] = 0\n",
    "survey['team building'] = 0\n",
    "\n",
    "# for loop to calculate big 5 and hutl dna\n",
    "for index, column in survey.loc[ : , : ].iterrows():\n",
    "    \n",
    "    survey.loc[index, 'agreeableness'] = [14 - survey.loc[index, 'Feel little concern for others']\n",
    "            -survey.loc[index, 'Insult people']\n",
    "            -survey.loc[index, \"\"\"Am not interested in other people's problems\"\"\"]\n",
    "            -survey.loc[index, 'Am not really interested in others']                              \n",
    "            +survey.loc[index, 'Am interested in people']\n",
    "            +survey.loc[index, \"\"\"Sympathize with others' feelings\"\"\"]                           \n",
    "            +survey.loc[index, 'Have a soft heart']\n",
    "            +survey.loc[index, 'Take time out for others']\n",
    "            +survey.loc[index, \"\"\"Feel others' emotions\"\"\"]                \n",
    "            +survey.loc[index, 'Make people feel at ease']]\n",
    "\n",
    "    survey.loc[index, 'extroversion'] = [20 + survey.loc[index, 'Am the life of the party']\n",
    "            -survey.loc[index, \"\"\"Don't talk a lot\"\"\"]\n",
    "            +survey.loc[index, \"\"\"Feel comfortable around people\"\"\"]\n",
    "            -survey.loc[index, \"\"\"Keep in the background\"\"\"]\n",
    "            +survey.loc[index, \"\"\"Start conversations\"\"\"]\n",
    "            -survey.loc[index, \"\"\"Have little to say\"\"\"]\n",
    "            +survey.loc[index, \"\"\"Talk to a lot of different people at parties\"\"\"]\n",
    "            -survey.loc[index, \"\"\"Don't like to draw attention to myself\"\"\"]\n",
    "            +survey.loc[index, \"\"\"Don't mind being the center of attention\"\"\"]\n",
    "            -survey.loc[index, \"\"\"Am quiet around strangers\"\"\"]]\n",
    "\n",
    "    survey.loc[index, 'conscientiousness'] = [14 + survey.loc[index, 'Am always prepared']\n",
    "            -survey.loc[index, 'Leave my belongings around']\n",
    "            +survey.loc[index, 'Pay attention to details']\n",
    "            -survey.loc[index, 'Make a mess of things']\n",
    "            +survey.loc[index, 'Get chores done right away']\n",
    "            -survey.loc[index, 'Often forget to put things back in their proper place']\n",
    "            +survey.loc[index, 'Like order']\n",
    "            -survey.loc[index, 'Shirk my duties']\n",
    "            +survey.loc[index, 'Follow a schedule']\n",
    "            +survey.loc[index, 'Am exacting in my work']]\n",
    "    \n",
    "    survey.loc[index, 'neuroticism'] = [38 - survey.loc[index, 'Get stressed out easily']\n",
    "            +survey.loc[index,'Am relaxed most of the time']\n",
    "            +survey.loc[index,'Seldom feel blue']\n",
    "            -survey.loc[index,'Worry about things']                            \n",
    "            -survey.loc[index,'Am easily disturbed']\n",
    "            -survey.loc[index,'Get upset easily']\n",
    "            -survey.loc[index,'Change my mood a lot']\n",
    "            -survey.loc[index,'Have frequent mood swings']\n",
    "            -survey.loc[index,'Get irritated easily']\n",
    "            -survey.loc[index,'Often feel blue']]\n",
    "\n",
    "    \n",
    "    survey.loc[index, 'openness to experience'] = [8 + survey.loc[index, 'Have a rich vocabulary']\n",
    "            -survey.loc[index, 'Have difficulty understanding abstract ideas']\n",
    "            -survey.loc[index, 'Am not interested in abstract ideas']\n",
    "            -survey.loc[index, 'Do not have a good imagination']\n",
    "            +survey.loc[index, 'Have excellent ideas']                                       \n",
    "            +survey.loc[index, 'Have a vivid imagination']                                     \n",
    "            +survey.loc[index, 'Use difficult words']\n",
    "            +survey.loc[index, 'Am quick to understand things']                                      \n",
    "            +survey.loc[index, 'Spend time reflecting on things']\n",
    "            +survey.loc[index, 'Am full of ideas']]\n",
    "\n",
    "    \n",
    "    \n",
    "####################    \n",
    "#### Hult DNA ########    \n",
    "######################    \n",
    "    \n",
    "    \n",
    "    \n",
    "    survey.loc[index, 'thinking'] = [survey.loc[index, 'See underlying patterns in complex situations']\n",
    "            -survey.loc[index, \"\"\"Don't  generate ideas that are new and different\"\"\"]\n",
    "            +survey.loc[index, 'Demonstrate an awareness of personal strengths and limitations']\n",
    "            +survey.loc[index, 'Display a growth mindset']]                    \n",
    "    \n",
    "    survey.loc[index, 'communicating'] = [survey.loc[index, 'Respond effectively to multiple priorities']\n",
    "            +survey.loc[index, 'Encourage direct and open discussions']\n",
    "            +survey.loc[index, \"\"\"Take initiative even when circumstances, objectives, or rules aren't clear\"\"\"]\n",
    "            +survey.loc[index, 'Listen carefully to others']\n",
    "            -survey.loc[index, \"\"\"Don't persuasively sell a vision or idea\"\"\"]]\n",
    "                                                                                                             \n",
    "    survey.loc[index, 'team building'] = [survey.loc[index, 'Build cooperative relationships']\n",
    "            +survey.loc[index, 'Work well with people from diverse cultural backgrounds']\n",
    "            +survey.loc[index, 'Effectively negotiate interests, resources, and roles']\n",
    "            -survey.loc[index, \"\"\"Can't rally people on the team around a common goal\"\"\"]\n",
    "            +survey.loc[index, 'Seek and use feedback from teammates']\n",
    "            +survey.loc[index, 'Translate ideas into plans that are organized and realistic']\n",
    "            +survey.loc[index, 'Resolve conflicts constructively']\n",
    "            +survey.loc[index, 'Coach teammates for performance and growth']\n",
    "            +survey.loc[index, 'Drive for results']]\n",
    "                                              \n",
    "\n",
    "\n",
    "                                                     \n",
    "                         \n",
    "                           \n",
    "                             \n",
    "                    \n",
    "                                                \n",
    "                                       \n"
   ]
  },
  {
   "cell_type": "markdown",
   "metadata": {},
   "source": [
    "# Modeling"
   ]
  },
  {
   "cell_type": "markdown",
   "metadata": {},
   "source": [
    "## PCA Model"
   ]
  },
  {
   "cell_type": "markdown",
   "metadata": {},
   "source": [
    "\"Principal Component Analysis (PCA) is a statistical procedure that uses an orthogonal transformation which converts a set of correlated variables to a set of uncorrelated variables.\""
   ]
  },
  {
   "cell_type": "markdown",
   "metadata": {},
   "source": [
    "### Scaling Data"
   ]
  },
  {
   "cell_type": "markdown",
   "metadata": {},
   "source": [
    "Scaling our data is important to get better results with our models because they work based on the assumption of a normal distribution and on scaled variables."
   ]
  },
  {
   "cell_type": "code",
   "execution_count": 93,
   "metadata": {
    "code_folding": []
   },
   "outputs": [],
   "source": [
    "# Copying the survey dataframe\n",
    "survey_df = survey.copy()"
   ]
  },
  {
   "cell_type": "code",
   "execution_count": 94,
   "metadata": {
    "code_folding": []
   },
   "outputs": [],
   "source": [
    "# Dropping original variables: \n",
    "survey_df_new = survey.iloc[: , 88:93]"
   ]
  },
  {
   "cell_type": "code",
   "execution_count": 95,
   "metadata": {
    "code_folding": []
   },
   "outputs": [
    {
     "name": "stdout",
     "output_type": "stream",
     "text": [
      "agreeableness             31.669064\n",
      "extroversion              41.271140\n",
      "conscientiousness         30.368512\n",
      "neuroticism               47.029196\n",
      "openness to experience    27.543253\n",
      "dtype: float64 \n",
      "\n",
      "\n",
      "agreeableness             1.0\n",
      "extroversion              1.0\n",
      "conscientiousness         1.0\n",
      "neuroticism               1.0\n",
      "openness to experience    1.0\n",
      "dtype: float64\n"
     ]
    },
    {
     "name": "stderr",
     "output_type": "stream",
     "text": [
      "<ipython-input-95-eae75c314c1f>:20: FutureWarning: The pandas.np module is deprecated and will be removed from pandas in a future version. Import numpy directly instead\n",
      "  print(pd.np.var(survey_df_new), '\\n\\n')\n",
      "<ipython-input-95-eae75c314c1f>:21: FutureWarning: The pandas.np module is deprecated and will be removed from pandas in a future version. Import numpy directly instead\n",
      "  print(pd.np.var(survey_scaled))\n"
     ]
    }
   ],
   "source": [
    "# Scaling dataset: \n",
    "\n",
    "# Instantiating:\n",
    "scaler = StandardScaler()\n",
    "\n",
    "# Fitting:\n",
    "scaler.fit(survey_df_new)\n",
    "\n",
    "# Transforming:\n",
    "X_scaled = scaler.transform(survey_df_new)\n",
    "\n",
    "# Converting into a DataFrame:\n",
    "survey_scaled = pd.DataFrame(X_scaled)\n",
    "\n",
    "# reattaching column names\n",
    "survey_scaled.columns = survey_df_new.columns\n",
    "\n",
    "\n",
    "# checking pre- and post-scaling variance\n",
    "print(pd.np.var(survey_df_new), '\\n\\n')\n",
    "print(pd.np.var(survey_scaled))"
   ]
  },
  {
   "cell_type": "markdown",
   "metadata": {},
   "source": [
    "### PCA"
   ]
  },
  {
   "cell_type": "code",
   "execution_count": 96,
   "metadata": {
    "code_folding": [
     0
    ]
   },
   "outputs": [],
   "source": [
    "# User defined for PCA\n",
    "\n",
    "def interia_plot(data, max_clust = 50):\n",
    "    \"\"\"\n",
    "PARAMETERS\n",
    "----------\n",
    "data      : DataFrame, data from which to build clusters. Dataset should be scaled\n",
    "max_clust : int, maximum of range for how many clusters to check interia, default 50\n",
    "    \"\"\"\n",
    "\n",
    "    ks = range(1, max_clust)\n",
    "    inertias = []\n",
    "\n",
    "\n",
    "    for k in ks:\n",
    "        # INSTANTIATING a kmeans object\n",
    "        model = KMeans(n_clusters = k)\n",
    "\n",
    "\n",
    "        # FITTING to the data\n",
    "        model.fit(data)\n",
    "\n",
    "\n",
    "        # append each inertia to the list of inertias\n",
    "        inertias.append(model.inertia_)\n",
    "\n",
    "\n",
    "\n",
    "    # plotting ks vs inertias\n",
    "    fig, ax = plt.subplots(figsize = (12, 8))\n",
    "    plt.plot(ks, inertias, '-o')\n",
    "\n",
    "\n",
    "    # labeling and displaying the plot\n",
    "    plt.xlabel('number of clusters, k')\n",
    "    plt.ylabel('inertia')\n",
    "    plt.xticks(ks)\n",
    "    plt.show()\n",
    "\n",
    "\n",
    "########################################\n",
    "# scree_plot\n",
    "########################################\n",
    "def scree_plot(pca_object, export = False):\n",
    "    # building a scree plot\n",
    "\n",
    "    # setting plot size\n",
    "    fig, ax = plt.subplots(figsize=(10, 8))\n",
    "    features = range(pca_object.n_components_)\n",
    "\n",
    "\n",
    "    # developing a scree plot\n",
    "    plt.plot(features,\n",
    "             pca_object.explained_variance_ratio_,\n",
    "             linewidth = 2,\n",
    "             marker = 'o',\n",
    "             markersize = 10,\n",
    "             markeredgecolor = 'black',\n",
    "             markerfacecolor = 'grey')\n",
    "\n",
    "\n",
    "    # setting more plot options\n",
    "    plt.title('Scree Plot')\n",
    "    plt.xlabel('PCA feature')\n",
    "    plt.ylabel('Explained Variance')\n",
    "    plt.xticks(features)\n",
    "\n",
    "    if export == True:\n",
    "    \n",
    "        \n",
    "        \n",
    "    # displaying the plot\n",
    "     plt.show()"
   ]
  },
  {
   "cell_type": "markdown",
   "metadata": {},
   "source": [
    "### Developing a PCA object with no limit to principal components and analyzing its scree plot."
   ]
  },
  {
   "cell_type": "code",
   "execution_count": 97,
   "metadata": {
    "code_folding": [
     0
    ]
   },
   "outputs": [
    {
     "data": {
      "image/png": "[encoded data removed]",
      "text/plain": [
       "<Figure size 720x576 with 1 Axes>"
      ]
     },
     "metadata": {
      "needs_background": "light"
     },
     "output_type": "display_data"
    }
   ],
   "source": [
    "# INSTANTIATING a PCA object with no limit to principal components\n",
    "pca = PCA(n_components=None,\n",
    "          random_state = 219)\n",
    "\n",
    "\n",
    "# FITTING and TRANSFORMING the scaled data\n",
    "survey_pca = pca.fit_transform(survey_scaled)\n",
    "\n",
    "\n",
    "# calling the scree_plot function\n",
    "scree_plot(pca_object = pca)"
   ]
  },
  {
   "cell_type": "markdown",
   "metadata": {},
   "source": [
    "### Reducing the number of principal components to a reasonable number based on the scree plot above"
   ]
  },
  {
   "cell_type": "code",
   "execution_count": 98,
   "metadata": {
    "code_folding": [
     0
    ]
   },
   "outputs": [
    {
     "data": {
      "image/png": "[encoded data removed]",
      "text/plain": [
       "<Figure size 720x576 with 1 Axes>"
      ]
     },
     "metadata": {
      "needs_background": "light"
     },
     "output_type": "display_data"
    }
   ],
   "source": [
    "# INSTANTIATING a new model using the first four principal components\n",
    "pca_1 = PCA(n_components = 4,\n",
    "            random_state = 219)\n",
    "\n",
    "\n",
    "# FITTING and TRANSFORMING the purchases_scaled\n",
    "survey_pca_1 = pca_1.fit_transform(survey_scaled)\n",
    "\n",
    "\n",
    "# calling the scree_plot function\n",
    "scree_plot(pca_object = pca_1)"
   ]
  },
  {
   "cell_type": "code",
   "execution_count": 99,
   "metadata": {},
   "outputs": [
    {
     "name": "stdout",
     "output_type": "stream",
     "text": [
      "\n",
      "MAX Components Factor Loadings\n",
      "------------------------------\n",
      "                           0     1     2     3     4\n",
      "agreeableness          -0.51  0.17  0.29 -0.67  0.42\n",
      "extroversion           -0.36  0.55 -0.63 -0.10 -0.39\n",
      "conscientiousness      -0.51 -0.40  0.35  0.01 -0.67\n",
      "neuroticism            -0.31 -0.67 -0.60  0.01  0.32\n",
      "openness to experience -0.50  0.25  0.17  0.73  0.34\n",
      "\n",
      "\n",
      "4 Components Factor Loadings\n",
      "------------------------------\n",
      "                           0     1     2     3\n",
      "agreeableness          -0.51  0.17  0.29 -0.67\n",
      "extroversion           -0.36  0.55 -0.63 -0.10\n",
      "conscientiousness      -0.51 -0.40  0.35  0.01\n",
      "neuroticism            -0.31 -0.67 -0.60  0.01\n",
      "openness to experience -0.50  0.25  0.17  0.73\n",
      "\n"
     ]
    },
    {
     "name": "stderr",
     "output_type": "stream",
     "text": [
      "<ipython-input-99-6288cea64c9d>:4: FutureWarning: The pandas.np module is deprecated and will be removed from pandas in a future version. Import numpy directly instead\n",
      "  factor_loadings = pd.DataFrame(pd.np.transpose(pca.components_))\n",
      "<ipython-input-99-6288cea64c9d>:15: FutureWarning: The pandas.np module is deprecated and will be removed from pandas in a future version. Import numpy directly instead\n",
      "  factor_loadings_3 = pd.DataFrame(pd.np.transpose(pca_1.components_))\n"
     ]
    }
   ],
   "source": [
    "### ### Max PC Model ###\n",
    "####################\n",
    "# transposing pca components (pc = MAX)\n",
    "factor_loadings = pd.DataFrame(pd.np.transpose(pca.components_))\n",
    "\n",
    "\n",
    "# naming rows as original features\n",
    "factor_loadings = factor_loadings.set_index(survey_scaled.columns)\n",
    "\n",
    "\n",
    "##################\n",
    "### 3 PC Model ###\n",
    "##################\n",
    "# transposing pca components (pc = 3)\n",
    "factor_loadings_3 = pd.DataFrame(pd.np.transpose(pca_1.components_))\n",
    "\n",
    "\n",
    "# naming rows as original features\n",
    "factor_loadings_3 = factor_loadings_3.set_index(survey_scaled.columns)\n",
    "\n",
    "\n",
    "# checking the results\n",
    "print(f\"\"\"\n",
    "MAX Components Factor Loadings\n",
    "------------------------------\n",
    "{factor_loadings.round(2)}\n",
    "\n",
    "\n",
    "4 Components Factor Loadings\n",
    "------------------------------\n",
    "{factor_loadings_3.round(2)}\n",
    "\"\"\")"
   ]
  },
  {
   "cell_type": "markdown",
   "metadata": {},
   "source": [
    "Here we decided to rename each component factor based on the children book series Mr and Mrs. Based on the psychological aspects we were able to match characters from the book series with these components. \n",
    "We selected:\n",
    "- Mr Perfect for someone with high thinking, openness, and conscientiousness \n",
    "- Mr Party for someone with low neuroticism, high extroversion and openness\n",
    "- Mr Chill based on very low extroversion and neuroticism, but high conscientiousness and thinking\n",
    "- Mr Busy for someone with low conscientiousness and extroversion but high openess to explore"
   ]
  },
  {
   "cell_type": "code",
   "execution_count": 100,
   "metadata": {
    "code_folding": [
     0
    ]
   },
   "outputs": [
    {
     "data": {
      "text/html": [
       "<div>\n",
       "<style scoped>\n",
       "    .dataframe tbody tr th:only-of-type {\n",
       "        vertical-align: middle;\n",
       "    }\n",
       "\n",
       "    .dataframe tbody tr th {\n",
       "        vertical-align: top;\n",
       "    }\n",
       "\n",
       "    .dataframe thead th {\n",
       "        text-align: right;\n",
       "    }\n",
       "</style>\n",
       "<table border=\"1\" class=\"dataframe\">\n",
       "  <thead>\n",
       "    <tr style=\"text-align: right;\">\n",
       "      <th></th>\n",
       "      <th>Mr_Perfect</th>\n",
       "      <th>Mr_Party</th>\n",
       "      <th>Mr_Chill</th>\n",
       "      <th>Mr_Busy</th>\n",
       "    </tr>\n",
       "  </thead>\n",
       "  <tbody>\n",
       "    <tr>\n",
       "      <th>agreeableness</th>\n",
       "      <td>-0.509698</td>\n",
       "      <td>0.173188</td>\n",
       "      <td>0.285979</td>\n",
       "      <td>-0.671049</td>\n",
       "    </tr>\n",
       "    <tr>\n",
       "      <th>extroversion</th>\n",
       "      <td>-0.360133</td>\n",
       "      <td>0.552533</td>\n",
       "      <td>-0.634295</td>\n",
       "      <td>-0.099938</td>\n",
       "    </tr>\n",
       "    <tr>\n",
       "      <th>conscientiousness</th>\n",
       "      <td>-0.512018</td>\n",
       "      <td>-0.400893</td>\n",
       "      <td>0.353551</td>\n",
       "      <td>0.013298</td>\n",
       "    </tr>\n",
       "    <tr>\n",
       "      <th>neuroticism</th>\n",
       "      <td>-0.310042</td>\n",
       "      <td>-0.665386</td>\n",
       "      <td>-0.600294</td>\n",
       "      <td>0.007549</td>\n",
       "    </tr>\n",
       "    <tr>\n",
       "      <th>openness to experience</th>\n",
       "      <td>-0.502219</td>\n",
       "      <td>0.247507</td>\n",
       "      <td>0.174743</td>\n",
       "      <td>0.734487</td>\n",
       "    </tr>\n",
       "  </tbody>\n",
       "</table>\n",
       "</div>"
      ],
      "text/plain": [
       "                        Mr_Perfect  Mr_Party  Mr_Chill   Mr_Busy\n",
       "agreeableness            -0.509698  0.173188  0.285979 -0.671049\n",
       "extroversion             -0.360133  0.552533 -0.634295 -0.099938\n",
       "conscientiousness        -0.512018 -0.400893  0.353551  0.013298\n",
       "neuroticism              -0.310042 -0.665386 -0.600294  0.007549\n",
       "openness to experience   -0.502219  0.247507  0.174743  0.734487"
      ]
     },
     "execution_count": 100,
     "metadata": {},
     "output_type": "execute_result"
    }
   ],
   "source": [
    "# naming each principal component\n",
    "factor_loadings_3.columns = ['Mr_Perfect',              \n",
    "                           'Mr_Party',         \n",
    "                           'Mr_Chill',\n",
    "                            'Mr_Busy'] \n",
    "\n",
    "\n",
    "# checking the result\n",
    "factor_loadings_3"
   ]
  },
  {
   "cell_type": "code",
   "execution_count": 101,
   "metadata": {
    "code_folding": [
     0
    ]
   },
   "outputs": [],
   "source": [
    "# analyzing factor strengths per customer\n",
    "X_pca_reduced = pca_1.transform(survey_scaled)\n",
    "\n",
    "\n",
    "# converting to a DataFrame\n",
    "X_pca_df = pd.DataFrame(X_pca_reduced)\n",
    "\n",
    "\n",
    "# renaming columns\n",
    "X_pca_df.columns = factor_loadings_3.columns\n",
    "\n",
    "\n",
    "# checking the results\n",
    "# X_pca_df"
   ]
  },
  {
   "cell_type": "code",
   "execution_count": 102,
   "metadata": {
    "code_folding": [
     0
    ]
   },
   "outputs": [],
   "source": [
    "# checking variance amongst clusters\n",
    "# np.var(X_pca_df)"
   ]
  },
  {
   "cell_type": "markdown",
   "metadata": {},
   "source": [
    "Since all our characters have different variance we decided to sclae our varibales again for better results."
   ]
  },
  {
   "cell_type": "code",
   "execution_count": 103,
   "metadata": {
    "code_folding": [
     0
    ]
   },
   "outputs": [
    {
     "name": "stdout",
     "output_type": "stream",
     "text": [
      "Mr_Perfect    1.800673\n",
      "Mr_Party      0.986945\n",
      "Mr_Chill      0.925214\n",
      "Mr_Busy       0.726183\n",
      "dtype: float64 \n",
      "\n",
      "\n",
      "Mr_Perfect    1.0\n",
      "Mr_Party      1.0\n",
      "Mr_Chill      1.0\n",
      "Mr_Busy       1.0\n",
      "dtype: float64\n"
     ]
    },
    {
     "name": "stderr",
     "output_type": "stream",
     "text": [
      "<ipython-input-103-08b521c6cc2e>:26: FutureWarning: The pandas.np module is deprecated and will be removed from pandas in a future version. Import numpy directly instead\n",
      "  print(pd.np.var(X_pca_df), '\\n\\n')\n",
      "<ipython-input-103-08b521c6cc2e>:27: FutureWarning: The pandas.np module is deprecated and will be removed from pandas in a future version. Import numpy directly instead\n",
      "  print(pd.np.var(pca_scaled))\n"
     ]
    }
   ],
   "source": [
    "#scaling again due to variance \n",
    "# INSTANTIATING a StandardScaler() object\n",
    "scaler = StandardScaler()\n",
    "\n",
    "\n",
    "# FITTING the scaler with the data\n",
    "scaler.fit(X_pca_df)\n",
    "\n",
    "\n",
    "# TRANSFORMING our data after fit\n",
    "X_scaled_pca = scaler.transform(X_pca_df)\n",
    "\n",
    "\n",
    "# converting scaled data into a DataFrame\n",
    "pca_scaled = pd.DataFrame(X_scaled_pca)\n",
    "\n",
    "\n",
    "# reattaching column names\n",
    "pca_scaled.columns = ['Mr_Perfect',              \n",
    "                           'Mr_Party',         \n",
    "                           'Mr_Chill',\n",
    "                            'Mr_Busy'] \n",
    "\n",
    "\n",
    "# checking pre- and post-scaling variance\n",
    "print(pd.np.var(X_pca_df), '\\n\\n')\n",
    "print(pd.np.var(pca_scaled))"
   ]
  },
  {
   "cell_type": "markdown",
   "metadata": {},
   "source": [
    "As we can see now we have all our characters with a variance of 1."
   ]
  },
  {
   "cell_type": "markdown",
   "metadata": {},
   "source": [
    "## Agglomerative clustering for Big 5"
   ]
  },
  {
   "cell_type": "markdown",
   "metadata": {},
   "source": [
    "Agglomerative clustering is an algorithms that groups objects based on clusters. It will start with the most common cluster and then divide it based on similarities. [Source](https://www.datanovia.com/en/lessons/agglomerative-hierarchical-clustering/)\n",
    "\n",
    "There are 3 types of Agglomerative clustering:\n",
    "1. Ward\n",
    "2. Complete\n",
    "3. Average\n",
    "\n",
    "We used \"complete\" because we found it to have the best clustering for our data."
   ]
  },
  {
   "cell_type": "code",
   "execution_count": 104,
   "metadata": {
    "code_folding": [
     0
    ]
   },
   "outputs": [
    {
     "data": {
      "image/png": "[encoded data removed]",
      "text/plain": [
       "<Figure size 864x864 with 1 Axes>"
      ]
     },
     "metadata": {
      "needs_background": "light"
     },
     "output_type": "display_data"
    }
   ],
   "source": [
    "# grouping data based on Complete distance\n",
    "standard_mergings_ward = linkage(y = pca_scaled,\n",
    "                                 method = 'complete',\n",
    "                                 optimal_ordering = True)\n",
    "\n",
    "\n",
    "# setting plot size\n",
    "fig, ax = plt.subplots(figsize=(12, 12))\n",
    "\n",
    "# developing a dendrogram\n",
    "dendrogram(Z = standard_mergings_ward,\n",
    "           leaf_rotation = 90,\n",
    "           leaf_font_size = 6)\n",
    "\n",
    "\n",
    "# saving and displaying the plot\n",
    "\n",
    "plt.show()"
   ]
  },
  {
   "cell_type": "markdown",
   "metadata": {},
   "source": [
    "### Developing a code to analyze the inertia plot."
   ]
  },
  {
   "cell_type": "code",
   "execution_count": 105,
   "metadata": {
    "code_folding": [
     0
    ]
   },
   "outputs": [
    {
     "data": {
      "image/png": "[encoded data removed]",
      "text/plain": [
       "<Figure size 864x576 with 1 Axes>"
      ]
     },
     "metadata": {
      "needs_background": "light"
     },
     "output_type": "display_data"
    }
   ],
   "source": [
    "# calling the inertia_plot() function\n",
    "interia_plot(data=pca_scaled)"
   ]
  },
  {
   "cell_type": "markdown",
   "metadata": {},
   "source": [
    "Based on the graph, we chose 8 as the best number of clusters."
   ]
  },
  {
   "cell_type": "code",
   "execution_count": 106,
   "metadata": {
    "code_folding": [
     0
    ]
   },
   "outputs": [
    {
     "name": "stdout",
     "output_type": "stream",
     "text": [
      "3    29\n",
      "2    23\n",
      "7    18\n",
      "5    17\n",
      "1    16\n",
      "6    14\n",
      "0    13\n",
      "4     6\n",
      "Name: Cluster, dtype: int64\n"
     ]
    }
   ],
   "source": [
    "# INSTANTIATING a k-Means object with clusters\n",
    "survey_k_pca = KMeans(n_clusters   = 8,\n",
    "                         random_state = 219)\n",
    "\n",
    "\n",
    "# fitting the object to the data\n",
    "survey_k_pca.fit(pca_scaled)\n",
    "\n",
    "\n",
    "# converting the clusters to a DataFrame\n",
    "survey_kmeans_pca = pd.DataFrame({'Cluster': survey_k_pca.labels_})\n",
    "\n",
    "\n",
    "# checking the results\n",
    "print(survey_kmeans_pca.iloc[: , 0].value_counts())"
   ]
  },
  {
   "cell_type": "markdown",
   "metadata": {},
   "source": [
    "Here we can see the size of each clusters"
   ]
  },
  {
   "cell_type": "code",
   "execution_count": 107,
   "metadata": {
    "code_folding": [
     0
    ]
   },
   "outputs": [
    {
     "data": {
      "text/html": [
       "<div>\n",
       "<style scoped>\n",
       "    .dataframe tbody tr th:only-of-type {\n",
       "        vertical-align: middle;\n",
       "    }\n",
       "\n",
       "    .dataframe tbody tr th {\n",
       "        vertical-align: top;\n",
       "    }\n",
       "\n",
       "    .dataframe thead th {\n",
       "        text-align: right;\n",
       "    }\n",
       "</style>\n",
       "<table border=\"1\" class=\"dataframe\">\n",
       "  <thead>\n",
       "    <tr style=\"text-align: right;\">\n",
       "      <th></th>\n",
       "      <th>Mr_Perfect</th>\n",
       "      <th>Mr_Party</th>\n",
       "      <th>Mr_Chill</th>\n",
       "      <th>Mr_Busy</th>\n",
       "    </tr>\n",
       "  </thead>\n",
       "  <tbody>\n",
       "    <tr>\n",
       "      <th>0</th>\n",
       "      <td>-1.61</td>\n",
       "      <td>0.52</td>\n",
       "      <td>-0.16</td>\n",
       "      <td>-0.17</td>\n",
       "    </tr>\n",
       "    <tr>\n",
       "      <th>1</th>\n",
       "      <td>0.54</td>\n",
       "      <td>1.26</td>\n",
       "      <td>0.30</td>\n",
       "      <td>-0.93</td>\n",
       "    </tr>\n",
       "    <tr>\n",
       "      <th>2</th>\n",
       "      <td>1.18</td>\n",
       "      <td>-0.17</td>\n",
       "      <td>-0.74</td>\n",
       "      <td>0.16</td>\n",
       "    </tr>\n",
       "    <tr>\n",
       "      <th>3</th>\n",
       "      <td>-0.25</td>\n",
       "      <td>-0.73</td>\n",
       "      <td>-0.11</td>\n",
       "      <td>-0.90</td>\n",
       "    </tr>\n",
       "    <tr>\n",
       "      <th>4</th>\n",
       "      <td>-0.31</td>\n",
       "      <td>1.68</td>\n",
       "      <td>0.34</td>\n",
       "      <td>1.45</td>\n",
       "    </tr>\n",
       "    <tr>\n",
       "      <th>5</th>\n",
       "      <td>-0.19</td>\n",
       "      <td>-0.98</td>\n",
       "      <td>0.80</td>\n",
       "      <td>1.30</td>\n",
       "    </tr>\n",
       "    <tr>\n",
       "      <th>6</th>\n",
       "      <td>0.37</td>\n",
       "      <td>0.14</td>\n",
       "      <td>1.62</td>\n",
       "      <td>-0.17</td>\n",
       "    </tr>\n",
       "    <tr>\n",
       "      <th>7</th>\n",
       "      <td>-0.41</td>\n",
       "      <td>0.16</td>\n",
       "      <td>-1.15</td>\n",
       "      <td>0.63</td>\n",
       "    </tr>\n",
       "  </tbody>\n",
       "</table>\n",
       "</div>"
      ],
      "text/plain": [
       "   Mr_Perfect  Mr_Party  Mr_Chill  Mr_Busy\n",
       "0       -1.61      0.52     -0.16    -0.17\n",
       "1        0.54      1.26      0.30    -0.93\n",
       "2        1.18     -0.17     -0.74     0.16\n",
       "3       -0.25     -0.73     -0.11    -0.90\n",
       "4       -0.31      1.68      0.34     1.45\n",
       "5       -0.19     -0.98      0.80     1.30\n",
       "6        0.37      0.14      1.62    -0.17\n",
       "7       -0.41      0.16     -1.15     0.63"
      ]
     },
     "execution_count": 107,
     "metadata": {},
     "output_type": "execute_result"
    }
   ],
   "source": [
    "# storing cluster centers\n",
    "centroids_pca = survey_k_pca.cluster_centers_\n",
    "\n",
    "\n",
    "# converting cluster centers into a DataFrame\n",
    "centroids_pca_df = pd.DataFrame(centroids_pca)\n",
    "\n",
    "\n",
    "# renaming principal components\n",
    "centroids_pca_df.columns = ['Mr_Perfect',              \n",
    "                           'Mr_Party',         \n",
    "                           'Mr_Chill',\n",
    "                            'Mr_Busy'] \n",
    "\n",
    "\n",
    "# checking results (clusters = rows, pc = columns)\n",
    "centroids_pca_df.round(2)"
   ]
  },
  {
   "cell_type": "markdown",
   "metadata": {},
   "source": [
    "0. extraversion,chill,busy\n",
    "1. mr party with work \n",
    "2. busy with perfect life \n",
    "3. not busy \n",
    "4. workoholic with social life\n",
    "5. laid back but not social \n",
    "6. easy going\n",
    "7. busy professional "
   ]
  },
  {
   "cell_type": "code",
   "execution_count": 108,
   "metadata": {
    "code_folding": []
   },
   "outputs": [],
   "source": [
    "# concatenating cluster memberships with principal components\n",
    "clst_pca_df = pd.concat([survey_kmeans_pca,\n",
    "                         X_pca_df],\n",
    "                         axis = 1)\n",
    "\n",
    "\n",
    "# checking results\n",
    "clst_pca_df\n",
    "\n",
    "\n",
    "# concatenating demographic information with pca-clusters\n",
    "final_pca_clust_df = pd.concat([survey.loc[ : , ['What laptop do you currently have?', \n",
    "                                                 'What laptop would you buy in next assuming if all laptops cost the same?', \n",
    "                                                 'What program are you in?', 'What is your age?', 'Gender', \n",
    "                                                 'What is your ethnicity?','ict ', 'continents ']],\n",
    "                                clst_pca_df],\n",
    "                                axis = 1)\n",
    "\n",
    "\n",
    "# renaming columns\n",
    "final_pca_clust_df.columns = ['What laptop do you currently have?', \n",
    "                            'What laptop would you buy in next assuming if all laptops cost the same?', \n",
    "                            'What program are you in?', 'What is your age?', 'Gender', \n",
    "                            'What is your ethnicity?','ict ', 'continents ',\n",
    "                              'Cluster',\n",
    "                             'Mr_Perfect',              \n",
    "                           'Mr_Party',         \n",
    "                           'Mr_Chill',\n",
    "                            'Mr_Busy']\n",
    "\n",
    "\n",
    "# checking the results\n",
    "#final_pca_clust_df.head(n = 1)"
   ]
  },
  {
   "cell_type": "markdown",
   "metadata": {},
   "source": [
    "### Analyze with demographics "
   ]
  },
  {
   "cell_type": "markdown",
   "metadata": {},
   "source": [
    "#### Laptop Selection"
   ]
  },
  {
   "cell_type": "code",
   "execution_count": 109,
   "metadata": {
    "code_folding": [
     0
    ]
   },
   "outputs": [
    {
     "data": {
      "image/png": "[encoded data removed]",
      "text/plain": [
       "<Figure size 864x576 with 1 Axes>"
      ]
     },
     "metadata": {
      "needs_background": "light"
     },
     "output_type": "display_data"
    }
   ],
   "source": [
    "# Laptop Selection - Mr Perfect\n",
    "\n",
    "\n",
    "fig, ax = plt.subplots(figsize = (12, 8))\n",
    "sns.boxplot(x = 'What laptop would you buy in next assuming if all laptops cost the same?',\n",
    "            y = 'Mr_Perfect',\n",
    "            hue = 'Cluster',\n",
    "            data = final_pca_clust_df)\n",
    "\n",
    "\n",
    "# formatting and displaying the plot\n",
    "plt.tight_layout()\n",
    "plt.show()"
   ]
  },
  {
   "cell_type": "markdown",
   "metadata": {},
   "source": [
    "People which are busy with perfect life , Mr party with work are most likely to buy a Mac while people from chill busy lifestyle will not likely buy Windows or Mac"
   ]
  },
  {
   "cell_type": "code",
   "execution_count": 110,
   "metadata": {
    "code_folding": [
     0
    ]
   },
   "outputs": [
    {
     "data": {
      "image/png": "[encoded data removed]",
      "text/plain": [
       "<Figure size 864x576 with 1 Axes>"
      ]
     },
     "metadata": {
      "needs_background": "light"
     },
     "output_type": "display_data"
    }
   ],
   "source": [
    "# Laptop Selection - Mr Party\n",
    "\n",
    "fig, ax = plt.subplots(figsize = (12, 8))\n",
    "sns.boxplot(x = 'What laptop would you buy in next assuming if all laptops cost the same?',\n",
    "            y = 'Mr_Party',\n",
    "            hue = 'Cluster',\n",
    "            data = final_pca_clust_df)\n",
    "\n",
    "\n",
    "# formatting and displaying the plot\n",
    "plt.tight_layout()\n",
    "plt.show()"
   ]
  },
  {
   "cell_type": "markdown",
   "metadata": {},
   "source": [
    "People that are workoholic with social life ,Mr party with work are more likely to buy an Mac while people that are not busy , laid back people with no social life are less likely to buy either Mac or Windows "
   ]
  },
  {
   "cell_type": "code",
   "execution_count": 111,
   "metadata": {
    "code_folding": [
     0
    ]
   },
   "outputs": [
    {
     "data": {
      "image/png": "[encoded data removed]",
      "text/plain": [
       "<Figure size 864x576 with 1 Axes>"
      ]
     },
     "metadata": {
      "needs_background": "light"
     },
     "output_type": "display_data"
    }
   ],
   "source": [
    "# Laptop Selection - Mr Chill\n",
    "fig, ax = plt.subplots(figsize = (12, 8))\n",
    "sns.boxplot(x = 'What laptop would you buy in next assuming if all laptops cost the same?',\n",
    "            y = 'Mr_Chill',\n",
    "            hue = 'Cluster',\n",
    "            data = final_pca_clust_df)\n",
    "\n",
    "\n",
    "# formatting and displaying the plot\n",
    "plt.tight_layout()\n",
    "plt.show()"
   ]
  },
  {
   "cell_type": "markdown",
   "metadata": {},
   "source": [
    "People that are easy going are more likely to buy Mac while people that are busy professional are not going to buy either Mac or. Windows ."
   ]
  },
  {
   "cell_type": "code",
   "execution_count": 112,
   "metadata": {
    "code_folding": [
     0
    ]
   },
   "outputs": [
    {
     "data": {
      "image/png": "[encoded data removed]",
      "text/plain": [
       "<Figure size 864x576 with 1 Axes>"
      ]
     },
     "metadata": {
      "needs_background": "light"
     },
     "output_type": "display_data"
    }
   ],
   "source": [
    "# Laptop Selection - Mr Busy\n",
    "fig, ax = plt.subplots(figsize = (12, 8))\n",
    "sns.boxplot(x = 'What laptop would you buy in next assuming if all laptops cost the same?',\n",
    "            y = 'Mr_Busy',\n",
    "            hue = 'Cluster',\n",
    "            data = final_pca_clust_df)\n",
    "\n",
    "\n",
    "# formatting and displaying the plot\n",
    "plt.tight_layout()\n",
    "plt.show()"
   ]
  },
  {
   "cell_type": "markdown",
   "metadata": {},
   "source": [
    "## Agglomerative clustering for Hult DNA"
   ]
  },
  {
   "cell_type": "code",
   "execution_count": 113,
   "metadata": {
    "code_folding": []
   },
   "outputs": [],
   "source": [
    "# Dropping original variables: \n",
    "survey_df_hult = survey.iloc[: , 93:96]"
   ]
  },
  {
   "cell_type": "code",
   "execution_count": 114,
   "metadata": {
    "code_folding": []
   },
   "outputs": [
    {
     "name": "stdout",
     "output_type": "stream",
     "text": [
      "thinking          4.943718\n",
      "communicating     7.272275\n",
      "team building    19.936365\n",
      "dtype: float64 \n",
      "\n",
      "\n",
      "thinking         1.0\n",
      "communicating    1.0\n",
      "team building    1.0\n",
      "dtype: float64\n"
     ]
    },
    {
     "name": "stderr",
     "output_type": "stream",
     "text": [
      "<ipython-input-114-bae6a051c320>:23: FutureWarning: The pandas.np module is deprecated and will be removed from pandas in a future version. Import numpy directly instead\n",
      "  print(pd.np.var(survey_df_hult), '\\n\\n')\n",
      "<ipython-input-114-bae6a051c320>:24: FutureWarning: The pandas.np module is deprecated and will be removed from pandas in a future version. Import numpy directly instead\n",
      "  print(pd.np.var(survey_scaled1))\n"
     ]
    }
   ],
   "source": [
    "# Scaling dataset: \n",
    "\n",
    "# Dropping demographic information:\n",
    "\n",
    "\n",
    "# Instantiating:\n",
    "scaler1 = StandardScaler()\n",
    "\n",
    "# Fitting:\n",
    "scaler1.fit(survey_df_hult)\n",
    "\n",
    "# Transforming:\n",
    "X_scaled1 = scaler1.transform(survey_df_hult)\n",
    "\n",
    "# Converting into a DataFrame:\n",
    "survey_scaled1 = pd.DataFrame(X_scaled1)\n",
    "\n",
    "# reattaching column names\n",
    "survey_scaled1.columns = survey_df_hult.columns\n",
    "\n",
    "\n",
    "# checking pre- and post-scaling variance\n",
    "print(pd.np.var(survey_df_hult), '\\n\\n')\n",
    "print(pd.np.var(survey_scaled1))"
   ]
  },
  {
   "cell_type": "markdown",
   "metadata": {},
   "source": [
    "### Developing a PCA object with no limit to principal components and analyzing its scree plot."
   ]
  },
  {
   "cell_type": "code",
   "execution_count": 115,
   "metadata": {
    "code_folding": []
   },
   "outputs": [
    {
     "data": {
      "image/png": "[encoded data removed]",
      "text/plain": [
       "<Figure size 720x576 with 1 Axes>"
      ]
     },
     "metadata": {
      "needs_background": "light"
     },
     "output_type": "display_data"
    }
   ],
   "source": [
    "# INSTANTIATING a PCA object with no limit to principal components\n",
    "pca1 = PCA(n_components=None,\n",
    "          random_state = 219)\n",
    "\n",
    "\n",
    "# FITTING and TRANSFORMING the scaled data\n",
    "survey_pca1 = pca1.fit_transform(survey_scaled1)\n",
    "\n",
    "\n",
    "# calling the scree_plot function\n",
    "scree_plot(pca_object = pca1)"
   ]
  },
  {
   "cell_type": "markdown",
   "metadata": {},
   "source": [
    "### Reducing the number of principal components to a reasonable number based on the scree plot above.\n",
    "\n"
   ]
  },
  {
   "cell_type": "code",
   "execution_count": 116,
   "metadata": {},
   "outputs": [
    {
     "data": {
      "image/png": "[encoded data removed]",
      "text/plain": [
       "<Figure size 720x576 with 1 Axes>"
      ]
     },
     "metadata": {
      "needs_background": "light"
     },
     "output_type": "display_data"
    }
   ],
   "source": [
    "# INSTANTIATING a new model using the first three principal components\n",
    "pca_2 = PCA(n_components = 2,\n",
    "            random_state = 219)\n",
    "\n",
    "\n",
    "# FITTING and TRANSFORMING the purchases_scaled\n",
    "survey_pca_2 = pca_2.fit_transform(survey_scaled1)\n",
    "\n",
    "\n",
    "# calling the scree_plot function\n",
    "scree_plot(pca_object = pca_2)"
   ]
  },
  {
   "cell_type": "code",
   "execution_count": 117,
   "metadata": {},
   "outputs": [
    {
     "name": "stdout",
     "output_type": "stream",
     "text": [
      "\n",
      "MAX Components Factor Loadings\n",
      "------------------------------\n",
      "                  0     1     2\n",
      "thinking      -0.56 -0.82  0.11\n",
      "communicating -0.59  0.31 -0.75\n",
      "team building -0.58  0.48  0.66\n",
      "\n",
      "\n",
      "5 Components Factor Loadings\n",
      "------------------------------\n",
      "                  0     1     2\n",
      "thinking      -0.56 -0.82  0.11\n",
      "communicating -0.59  0.31 -0.75\n",
      "team building -0.58  0.48  0.66\n",
      "\n"
     ]
    },
    {
     "name": "stderr",
     "output_type": "stream",
     "text": [
      "<ipython-input-117-a2c4494a6c45>:5: FutureWarning: The pandas.np module is deprecated and will be removed from pandas in a future version. Import numpy directly instead\n",
      "  factor_loadings1 = pd.DataFrame(pd.np.transpose(pca1.components_))\n",
      "<ipython-input-117-a2c4494a6c45>:16: FutureWarning: The pandas.np module is deprecated and will be removed from pandas in a future version. Import numpy directly instead\n",
      "  factor_loadings_hult = pd.DataFrame(pd.np.transpose(pca1.components_))\n"
     ]
    }
   ],
   "source": [
    "####################\n",
    "### Max PC Model ###\n",
    "####################\n",
    "# transposing pca components (pc = MAX)\n",
    "factor_loadings1 = pd.DataFrame(pd.np.transpose(pca1.components_))\n",
    "\n",
    "\n",
    "# naming rows as original features\n",
    "factor_loadings1 = factor_loadings1.set_index(survey_scaled1.columns)\n",
    "\n",
    "\n",
    "##################\n",
    "### 3 PC Model ###\n",
    "##################\n",
    "# transposing pca components (pc = 3)\n",
    "factor_loadings_hult = pd.DataFrame(pd.np.transpose(pca1.components_))\n",
    "\n",
    "\n",
    "# naming rows as original features\n",
    "factor_loadings_hult = factor_loadings_hult.set_index(survey_scaled1.columns)\n",
    "\n",
    "\n",
    "# checking the results\n",
    "print(f\"\"\"\n",
    "MAX Components Factor Loadings\n",
    "------------------------------\n",
    "{factor_loadings1.round(2)}\n",
    "\n",
    "\n",
    "5 Components Factor Loadings\n",
    "------------------------------\n",
    "{factor_loadings_hult.round(2)}\n",
    "\"\"\")"
   ]
  },
  {
   "cell_type": "code",
   "execution_count": 118,
   "metadata": {},
   "outputs": [
    {
     "data": {
      "text/html": [
       "<div>\n",
       "<style scoped>\n",
       "    .dataframe tbody tr th:only-of-type {\n",
       "        vertical-align: middle;\n",
       "    }\n",
       "\n",
       "    .dataframe tbody tr th {\n",
       "        vertical-align: top;\n",
       "    }\n",
       "\n",
       "    .dataframe thead th {\n",
       "        text-align: right;\n",
       "    }\n",
       "</style>\n",
       "<table border=\"1\" class=\"dataframe\">\n",
       "  <thead>\n",
       "    <tr style=\"text-align: right;\">\n",
       "      <th></th>\n",
       "      <th>Mr_Quiet</th>\n",
       "      <th>Mr_Clever</th>\n",
       "      <th>Mr_Grumpy</th>\n",
       "    </tr>\n",
       "  </thead>\n",
       "  <tbody>\n",
       "    <tr>\n",
       "      <th>thinking</th>\n",
       "      <td>-0.558727</td>\n",
       "      <td>-0.822658</td>\n",
       "      <td>0.105154</td>\n",
       "    </tr>\n",
       "    <tr>\n",
       "      <th>communicating</th>\n",
       "      <td>-0.590026</td>\n",
       "      <td>0.305184</td>\n",
       "      <td>-0.747484</td>\n",
       "    </tr>\n",
       "    <tr>\n",
       "      <th>team building</th>\n",
       "      <td>-0.582832</td>\n",
       "      <td>0.479683</td>\n",
       "      <td>0.655905</td>\n",
       "    </tr>\n",
       "  </tbody>\n",
       "</table>\n",
       "</div>"
      ],
      "text/plain": [
       "               Mr_Quiet  Mr_Clever  Mr_Grumpy\n",
       "thinking      -0.558727  -0.822658   0.105154\n",
       "communicating -0.590026   0.305184  -0.747484\n",
       "team building -0.582832   0.479683   0.655905"
      ]
     },
     "execution_count": 118,
     "metadata": {},
     "output_type": "execute_result"
    }
   ],
   "source": [
    "# naming each principal component\n",
    "factor_loadings_hult.columns = ['Mr_Quiet', 'Mr_Clever', 'Mr_Grumpy'] \n",
    "\n",
    "\n",
    "# checking the result\n",
    "factor_loadings_hult"
   ]
  },
  {
   "cell_type": "code",
   "execution_count": 119,
   "metadata": {},
   "outputs": [
    {
     "data": {
      "text/html": [
       "<div>\n",
       "<style scoped>\n",
       "    .dataframe tbody tr th:only-of-type {\n",
       "        vertical-align: middle;\n",
       "    }\n",
       "\n",
       "    .dataframe tbody tr th {\n",
       "        vertical-align: top;\n",
       "    }\n",
       "\n",
       "    .dataframe thead th {\n",
       "        text-align: right;\n",
       "    }\n",
       "</style>\n",
       "<table border=\"1\" class=\"dataframe\">\n",
       "  <thead>\n",
       "    <tr style=\"text-align: right;\">\n",
       "      <th></th>\n",
       "      <th>Mr_Quiet</th>\n",
       "      <th>Mr_Clever</th>\n",
       "      <th>Mr_Grumpy</th>\n",
       "    </tr>\n",
       "  </thead>\n",
       "  <tbody>\n",
       "    <tr>\n",
       "      <th>0</th>\n",
       "      <td>-0.040308</td>\n",
       "      <td>-0.034618</td>\n",
       "      <td>0.112525</td>\n",
       "    </tr>\n",
       "    <tr>\n",
       "      <th>1</th>\n",
       "      <td>-0.194114</td>\n",
       "      <td>1.044873</td>\n",
       "      <td>-0.813611</td>\n",
       "    </tr>\n",
       "    <tr>\n",
       "      <th>2</th>\n",
       "      <td>1.170701</td>\n",
       "      <td>-0.320690</td>\n",
       "      <td>0.032003</td>\n",
       "    </tr>\n",
       "    <tr>\n",
       "      <th>3</th>\n",
       "      <td>-0.585713</td>\n",
       "      <td>1.367167</td>\n",
       "      <td>-0.372915</td>\n",
       "    </tr>\n",
       "    <tr>\n",
       "      <th>4</th>\n",
       "      <td>2.512244</td>\n",
       "      <td>-0.714192</td>\n",
       "      <td>-0.195418</td>\n",
       "    </tr>\n",
       "    <tr>\n",
       "      <th>5</th>\n",
       "      <td>1.389495</td>\n",
       "      <td>-0.433858</td>\n",
       "      <td>0.309186</td>\n",
       "    </tr>\n",
       "    <tr>\n",
       "      <th>6</th>\n",
       "      <td>-0.301375</td>\n",
       "      <td>0.180244</td>\n",
       "      <td>0.406322</td>\n",
       "    </tr>\n",
       "    <tr>\n",
       "      <th>7</th>\n",
       "      <td>-0.301375</td>\n",
       "      <td>0.180244</td>\n",
       "      <td>0.406322</td>\n",
       "    </tr>\n",
       "    <tr>\n",
       "      <th>8</th>\n",
       "      <td>0.681063</td>\n",
       "      <td>0.592197</td>\n",
       "      <td>0.295121</td>\n",
       "    </tr>\n",
       "    <tr>\n",
       "      <th>9</th>\n",
       "      <td>-1.711623</td>\n",
       "      <td>-0.590226</td>\n",
       "      <td>-0.283347</td>\n",
       "    </tr>\n",
       "    <tr>\n",
       "      <th>10</th>\n",
       "      <td>0.429774</td>\n",
       "      <td>0.222205</td>\n",
       "      <td>0.342414</td>\n",
       "    </tr>\n",
       "    <tr>\n",
       "      <th>11</th>\n",
       "      <td>-1.153279</td>\n",
       "      <td>-0.339140</td>\n",
       "      <td>0.370624</td>\n",
       "    </tr>\n",
       "    <tr>\n",
       "      <th>12</th>\n",
       "      <td>-0.203336</td>\n",
       "      <td>-0.410348</td>\n",
       "      <td>0.583900</td>\n",
       "    </tr>\n",
       "    <tr>\n",
       "      <th>13</th>\n",
       "      <td>-0.705913</td>\n",
       "      <td>-1.150333</td>\n",
       "      <td>0.678486</td>\n",
       "    </tr>\n",
       "    <tr>\n",
       "      <th>14</th>\n",
       "      <td>0.494763</td>\n",
       "      <td>1.188527</td>\n",
       "      <td>-0.306538</td>\n",
       "    </tr>\n",
       "    <tr>\n",
       "      <th>15</th>\n",
       "      <td>-0.696691</td>\n",
       "      <td>0.304888</td>\n",
       "      <td>-0.719024</td>\n",
       "    </tr>\n",
       "    <tr>\n",
       "      <th>16</th>\n",
       "      <td>-1.199269</td>\n",
       "      <td>-0.435096</td>\n",
       "      <td>-0.624437</td>\n",
       "    </tr>\n",
       "    <tr>\n",
       "      <th>17</th>\n",
       "      <td>0.942129</td>\n",
       "      <td>0.377334</td>\n",
       "      <td>0.001324</td>\n",
       "    </tr>\n",
       "    <tr>\n",
       "      <th>18</th>\n",
       "      <td>1.532968</td>\n",
       "      <td>1.111582</td>\n",
       "      <td>0.330819</td>\n",
       "    </tr>\n",
       "    <tr>\n",
       "      <th>19</th>\n",
       "      <td>0.145436</td>\n",
       "      <td>1.409128</td>\n",
       "      <td>-0.436823</td>\n",
       "    </tr>\n",
       "    <tr>\n",
       "      <th>20</th>\n",
       "      <td>2.897783</td>\n",
       "      <td>-0.253981</td>\n",
       "      <td>1.176432</td>\n",
       "    </tr>\n",
       "    <tr>\n",
       "      <th>21</th>\n",
       "      <td>1.323951</td>\n",
       "      <td>0.639895</td>\n",
       "      <td>-0.192868</td>\n",
       "    </tr>\n",
       "    <tr>\n",
       "      <th>22</th>\n",
       "      <td>1.520029</td>\n",
       "      <td>-0.541290</td>\n",
       "      <td>0.162287</td>\n",
       "    </tr>\n",
       "    <tr>\n",
       "      <th>23</th>\n",
       "      <td>-1.982467</td>\n",
       "      <td>0.209492</td>\n",
       "      <td>0.256954</td>\n",
       "    </tr>\n",
       "    <tr>\n",
       "      <th>24</th>\n",
       "      <td>-0.259103</td>\n",
       "      <td>0.078550</td>\n",
       "      <td>-0.164658</td>\n",
       "    </tr>\n",
       "    <tr>\n",
       "      <th>25</th>\n",
       "      <td>1.421990</td>\n",
       "      <td>0.049303</td>\n",
       "      <td>-0.015291</td>\n",
       "    </tr>\n",
       "    <tr>\n",
       "      <th>26</th>\n",
       "      <td>-2.024739</td>\n",
       "      <td>0.311186</td>\n",
       "      <td>0.827934</td>\n",
       "    </tr>\n",
       "    <tr>\n",
       "      <th>27</th>\n",
       "      <td>-1.120785</td>\n",
       "      <td>0.144021</td>\n",
       "      <td>0.046148</td>\n",
       "    </tr>\n",
       "    <tr>\n",
       "      <th>28</th>\n",
       "      <td>-1.362296</td>\n",
       "      <td>-0.810826</td>\n",
       "      <td>-0.153063</td>\n",
       "    </tr>\n",
       "    <tr>\n",
       "      <th>29</th>\n",
       "      <td>1.157762</td>\n",
       "      <td>-1.973561</td>\n",
       "      <td>-0.136529</td>\n",
       "    </tr>\n",
       "    <tr>\n",
       "      <th>30</th>\n",
       "      <td>-0.259103</td>\n",
       "      <td>0.078550</td>\n",
       "      <td>-0.164658</td>\n",
       "    </tr>\n",
       "    <tr>\n",
       "      <th>31</th>\n",
       "      <td>-2.080506</td>\n",
       "      <td>0.800085</td>\n",
       "      <td>0.079377</td>\n",
       "    </tr>\n",
       "    <tr>\n",
       "      <th>32</th>\n",
       "      <td>-1.185774</td>\n",
       "      <td>-0.822301</td>\n",
       "      <td>0.695101</td>\n",
       "    </tr>\n",
       "    <tr>\n",
       "      <th>33</th>\n",
       "      <td>0.044235</td>\n",
       "      <td>-0.238006</td>\n",
       "      <td>-1.029436</td>\n",
       "    </tr>\n",
       "    <tr>\n",
       "      <th>34</th>\n",
       "      <td>-0.040308</td>\n",
       "      <td>-0.034618</td>\n",
       "      <td>0.112525</td>\n",
       "    </tr>\n",
       "    <tr>\n",
       "      <th>35</th>\n",
       "      <td>-0.905708</td>\n",
       "      <td>-0.166798</td>\n",
       "      <td>-1.242711</td>\n",
       "    </tr>\n",
       "    <tr>\n",
       "      <th>36</th>\n",
       "      <td>0.570085</td>\n",
       "      <td>-0.470082</td>\n",
       "      <td>-0.050988</td>\n",
       "    </tr>\n",
       "    <tr>\n",
       "      <th>37</th>\n",
       "      <td>-2.331795</td>\n",
       "      <td>0.430092</td>\n",
       "      <td>0.126670</td>\n",
       "    </tr>\n",
       "    <tr>\n",
       "      <th>38</th>\n",
       "      <td>-0.259103</td>\n",
       "      <td>0.078550</td>\n",
       "      <td>-0.164658</td>\n",
       "    </tr>\n",
       "    <tr>\n",
       "      <th>39</th>\n",
       "      <td>0.942129</td>\n",
       "      <td>0.377334</td>\n",
       "      <td>0.001324</td>\n",
       "    </tr>\n",
       "    <tr>\n",
       "      <th>40</th>\n",
       "      <td>2.143361</td>\n",
       "      <td>0.676118</td>\n",
       "      <td>0.167306</td>\n",
       "    </tr>\n",
       "    <tr>\n",
       "      <th>41</th>\n",
       "      <td>-1.721401</td>\n",
       "      <td>-0.005371</td>\n",
       "      <td>-0.036843</td>\n",
       "    </tr>\n",
       "    <tr>\n",
       "      <th>42</th>\n",
       "      <td>0.407058</td>\n",
       "      <td>-0.845811</td>\n",
       "      <td>0.420387</td>\n",
       "    </tr>\n",
       "    <tr>\n",
       "      <th>43</th>\n",
       "      <td>0.210980</td>\n",
       "      <td>0.335374</td>\n",
       "      <td>0.065231</td>\n",
       "    </tr>\n",
       "    <tr>\n",
       "      <th>44</th>\n",
       "      <td>2.032383</td>\n",
       "      <td>-0.386160</td>\n",
       "      <td>-0.178803</td>\n",
       "    </tr>\n",
       "    <tr>\n",
       "      <th>45</th>\n",
       "      <td>-0.072803</td>\n",
       "      <td>-0.517780</td>\n",
       "      <td>0.437001</td>\n",
       "    </tr>\n",
       "    <tr>\n",
       "      <th>46</th>\n",
       "      <td>-0.520169</td>\n",
       "      <td>0.293413</td>\n",
       "      <td>0.129139</td>\n",
       "    </tr>\n",
       "    <tr>\n",
       "      <th>47</th>\n",
       "      <td>0.188263</td>\n",
       "      <td>-0.732642</td>\n",
       "      <td>0.143204</td>\n",
       "    </tr>\n",
       "    <tr>\n",
       "      <th>48</th>\n",
       "      <td>2.488971</td>\n",
       "      <td>0.257868</td>\n",
       "      <td>-1.268452</td>\n",
       "    </tr>\n",
       "    <tr>\n",
       "      <th>49</th>\n",
       "      <td>2.110867</td>\n",
       "      <td>0.192957</td>\n",
       "      <td>0.491782</td>\n",
       "    </tr>\n",
       "    <tr>\n",
       "      <th>50</th>\n",
       "      <td>1.160924</td>\n",
       "      <td>0.264166</td>\n",
       "      <td>0.278507</td>\n",
       "    </tr>\n",
       "    <tr>\n",
       "      <th>51</th>\n",
       "      <td>-0.506674</td>\n",
       "      <td>-0.093791</td>\n",
       "      <td>1.448677</td>\n",
       "    </tr>\n",
       "    <tr>\n",
       "      <th>52</th>\n",
       "      <td>-1.842157</td>\n",
       "      <td>-0.482794</td>\n",
       "      <td>-0.136448</td>\n",
       "    </tr>\n",
       "    <tr>\n",
       "      <th>53</th>\n",
       "      <td>-0.072803</td>\n",
       "      <td>-0.517780</td>\n",
       "      <td>0.437001</td>\n",
       "    </tr>\n",
       "    <tr>\n",
       "      <th>54</th>\n",
       "      <td>0.504541</td>\n",
       "      <td>0.603672</td>\n",
       "      <td>-0.553042</td>\n",
       "    </tr>\n",
       "    <tr>\n",
       "      <th>55</th>\n",
       "      <td>0.351291</td>\n",
       "      <td>-0.356913</td>\n",
       "      <td>-0.328171</td>\n",
       "    </tr>\n",
       "    <tr>\n",
       "      <th>56</th>\n",
       "      <td>2.982327</td>\n",
       "      <td>-0.457369</td>\n",
       "      <td>0.034472</td>\n",
       "    </tr>\n",
       "    <tr>\n",
       "      <th>57</th>\n",
       "      <td>0.592802</td>\n",
       "      <td>0.597935</td>\n",
       "      <td>-0.128961</td>\n",
       "    </tr>\n",
       "    <tr>\n",
       "      <th>58</th>\n",
       "      <td>-1.261096</td>\n",
       "      <td>0.836308</td>\n",
       "      <td>0.439551</td>\n",
       "    </tr>\n",
       "    <tr>\n",
       "      <th>59</th>\n",
       "      <td>3.145354</td>\n",
       "      <td>-0.081639</td>\n",
       "      <td>-0.436903</td>\n",
       "    </tr>\n",
       "    <tr>\n",
       "      <th>60</th>\n",
       "      <td>1.562300</td>\n",
       "      <td>-0.642984</td>\n",
       "      <td>-0.408693</td>\n",
       "    </tr>\n",
       "    <tr>\n",
       "      <th>61</th>\n",
       "      <td>-0.640924</td>\n",
       "      <td>-0.184010</td>\n",
       "      <td>0.029534</td>\n",
       "    </tr>\n",
       "    <tr>\n",
       "      <th>62</th>\n",
       "      <td>2.055100</td>\n",
       "      <td>0.681856</td>\n",
       "      <td>-0.256776</td>\n",
       "    </tr>\n",
       "    <tr>\n",
       "      <th>63</th>\n",
       "      <td>0.896140</td>\n",
       "      <td>0.281378</td>\n",
       "      <td>-0.993738</td>\n",
       "    </tr>\n",
       "    <tr>\n",
       "      <th>64</th>\n",
       "      <td>-0.464402</td>\n",
       "      <td>-0.195485</td>\n",
       "      <td>0.877697</td>\n",
       "    </tr>\n",
       "    <tr>\n",
       "      <th>65</th>\n",
       "      <td>0.606297</td>\n",
       "      <td>0.210730</td>\n",
       "      <td>1.190577</td>\n",
       "    </tr>\n",
       "    <tr>\n",
       "      <th>66</th>\n",
       "      <td>-0.249325</td>\n",
       "      <td>-0.506305</td>\n",
       "      <td>-0.411162</td>\n",
       "    </tr>\n",
       "    <tr>\n",
       "      <th>67</th>\n",
       "      <td>-1.753895</td>\n",
       "      <td>-0.488532</td>\n",
       "      <td>0.287633</td>\n",
       "    </tr>\n",
       "    <tr>\n",
       "      <th>68</th>\n",
       "      <td>-2.844149</td>\n",
       "      <td>0.274963</td>\n",
       "      <td>0.467760</td>\n",
       "    </tr>\n",
       "    <tr>\n",
       "      <th>69</th>\n",
       "      <td>-1.163057</td>\n",
       "      <td>0.245715</td>\n",
       "      <td>0.617128</td>\n",
       "    </tr>\n",
       "    <tr>\n",
       "      <th>70</th>\n",
       "      <td>-1.652695</td>\n",
       "      <td>1.158602</td>\n",
       "      <td>0.880246</td>\n",
       "    </tr>\n",
       "    <tr>\n",
       "      <th>71</th>\n",
       "      <td>-0.827225</td>\n",
       "      <td>0.412320</td>\n",
       "      <td>-0.572125</td>\n",
       "    </tr>\n",
       "    <tr>\n",
       "      <th>72</th>\n",
       "      <td>1.132147</td>\n",
       "      <td>-0.021345</td>\n",
       "      <td>2.169025</td>\n",
       "    </tr>\n",
       "    <tr>\n",
       "      <th>73</th>\n",
       "      <td>-1.287530</td>\n",
       "      <td>-0.429359</td>\n",
       "      <td>-1.048519</td>\n",
       "    </tr>\n",
       "    <tr>\n",
       "      <th>74</th>\n",
       "      <td>0.909635</td>\n",
       "      <td>-0.105827</td>\n",
       "      <td>0.325800</td>\n",
       "    </tr>\n",
       "    <tr>\n",
       "      <th>75</th>\n",
       "      <td>-1.940195</td>\n",
       "      <td>0.107798</td>\n",
       "      <td>-0.314026</td>\n",
       "    </tr>\n",
       "    <tr>\n",
       "      <th>76</th>\n",
       "      <td>0.272807</td>\n",
       "      <td>-0.936030</td>\n",
       "      <td>-0.998757</td>\n",
       "    </tr>\n",
       "    <tr>\n",
       "      <th>77</th>\n",
       "      <td>-1.189491</td>\n",
       "      <td>-1.019951</td>\n",
       "      <td>-0.870941</td>\n",
       "    </tr>\n",
       "    <tr>\n",
       "      <th>78</th>\n",
       "      <td>0.449330</td>\n",
       "      <td>-0.947505</td>\n",
       "      <td>-0.150593</td>\n",
       "    </tr>\n",
       "    <tr>\n",
       "      <th>79</th>\n",
       "      <td>1.203195</td>\n",
       "      <td>0.162472</td>\n",
       "      <td>-0.292473</td>\n",
       "    </tr>\n",
       "    <tr>\n",
       "      <th>80</th>\n",
       "      <td>-0.239548</td>\n",
       "      <td>-1.091160</td>\n",
       "      <td>-0.657666</td>\n",
       "    </tr>\n",
       "    <tr>\n",
       "      <th>81</th>\n",
       "      <td>-3.314232</td>\n",
       "      <td>0.018140</td>\n",
       "      <td>0.237871</td>\n",
       "    </tr>\n",
       "    <tr>\n",
       "      <th>82</th>\n",
       "      <td>-0.259103</td>\n",
       "      <td>0.078550</td>\n",
       "      <td>-0.164658</td>\n",
       "    </tr>\n",
       "    <tr>\n",
       "      <th>83</th>\n",
       "      <td>-2.661567</td>\n",
       "      <td>-0.519017</td>\n",
       "      <td>-0.496622</td>\n",
       "    </tr>\n",
       "    <tr>\n",
       "      <th>84</th>\n",
       "      <td>0.309019</td>\n",
       "      <td>-0.255219</td>\n",
       "      <td>0.242809</td>\n",
       "    </tr>\n",
       "    <tr>\n",
       "      <th>85</th>\n",
       "      <td>1.944122</td>\n",
       "      <td>-0.380423</td>\n",
       "      <td>-0.602885</td>\n",
       "    </tr>\n",
       "    <tr>\n",
       "      <th>86</th>\n",
       "      <td>-0.673419</td>\n",
       "      <td>-0.667172</td>\n",
       "      <td>0.354010</td>\n",
       "    </tr>\n",
       "    <tr>\n",
       "      <th>87</th>\n",
       "      <td>2.884288</td>\n",
       "      <td>0.133224</td>\n",
       "      <td>-0.143106</td>\n",
       "    </tr>\n",
       "    <tr>\n",
       "      <th>88</th>\n",
       "      <td>-2.452550</td>\n",
       "      <td>-0.047331</td>\n",
       "      <td>0.027065</td>\n",
       "    </tr>\n",
       "    <tr>\n",
       "      <th>89</th>\n",
       "      <td>0.984401</td>\n",
       "      <td>0.275641</td>\n",
       "      <td>-0.569656</td>\n",
       "    </tr>\n",
       "    <tr>\n",
       "      <th>90</th>\n",
       "      <td>-0.947980</td>\n",
       "      <td>-0.065104</td>\n",
       "      <td>-0.671731</td>\n",
       "    </tr>\n",
       "    <tr>\n",
       "      <th>91</th>\n",
       "      <td>0.122719</td>\n",
       "      <td>0.341111</td>\n",
       "      <td>-0.358850</td>\n",
       "    </tr>\n",
       "    <tr>\n",
       "      <th>92</th>\n",
       "      <td>-0.030531</td>\n",
       "      <td>-0.619474</td>\n",
       "      <td>-0.133979</td>\n",
       "    </tr>\n",
       "    <tr>\n",
       "      <th>93</th>\n",
       "      <td>-2.452550</td>\n",
       "      <td>-0.047331</td>\n",
       "      <td>0.027065</td>\n",
       "    </tr>\n",
       "    <tr>\n",
       "      <th>94</th>\n",
       "      <td>1.637066</td>\n",
       "      <td>-0.261517</td>\n",
       "      <td>-1.304149</td>\n",
       "    </tr>\n",
       "    <tr>\n",
       "      <th>95</th>\n",
       "      <td>-1.819440</td>\n",
       "      <td>0.585222</td>\n",
       "      <td>-0.214421</td>\n",
       "    </tr>\n",
       "    <tr>\n",
       "      <th>96</th>\n",
       "      <td>0.243474</td>\n",
       "      <td>0.818535</td>\n",
       "      <td>-0.259245</td>\n",
       "    </tr>\n",
       "    <tr>\n",
       "      <th>97</th>\n",
       "      <td>-0.138347</td>\n",
       "      <td>0.555974</td>\n",
       "      <td>-0.065053</td>\n",
       "    </tr>\n",
       "    <tr>\n",
       "      <th>98</th>\n",
       "      <td>1.444706</td>\n",
       "      <td>1.117319</td>\n",
       "      <td>-0.093263</td>\n",
       "    </tr>\n",
       "    <tr>\n",
       "      <th>99</th>\n",
       "      <td>-3.053166</td>\n",
       "      <td>-0.196723</td>\n",
       "      <td>-0.055926</td>\n",
       "    </tr>\n",
       "    <tr>\n",
       "      <th>100</th>\n",
       "      <td>1.128429</td>\n",
       "      <td>-0.218996</td>\n",
       "      <td>0.602983</td>\n",
       "    </tr>\n",
       "    <tr>\n",
       "      <th>101</th>\n",
       "      <td>-2.247251</td>\n",
       "      <td>0.226705</td>\n",
       "      <td>-1.015290</td>\n",
       "    </tr>\n",
       "    <tr>\n",
       "      <th>102</th>\n",
       "      <td>3.014821</td>\n",
       "      <td>0.025792</td>\n",
       "      <td>-0.290004</td>\n",
       "    </tr>\n",
       "    <tr>\n",
       "      <th>103</th>\n",
       "      <td>4.434847</td>\n",
       "      <td>0.211408</td>\n",
       "      <td>0.153161</td>\n",
       "    </tr>\n",
       "    <tr>\n",
       "      <th>104</th>\n",
       "      <td>-0.468120</td>\n",
       "      <td>-0.393136</td>\n",
       "      <td>-0.688345</td>\n",
       "    </tr>\n",
       "    <tr>\n",
       "      <th>105</th>\n",
       "      <td>-0.040308</td>\n",
       "      <td>-0.034618</td>\n",
       "      <td>0.112525</td>\n",
       "    </tr>\n",
       "    <tr>\n",
       "      <th>106</th>\n",
       "      <td>0.093386</td>\n",
       "      <td>2.095677</td>\n",
       "      <td>0.380662</td>\n",
       "    </tr>\n",
       "    <tr>\n",
       "      <th>107</th>\n",
       "      <td>-1.600645</td>\n",
       "      <td>0.472053</td>\n",
       "      <td>0.062762</td>\n",
       "    </tr>\n",
       "    <tr>\n",
       "      <th>108</th>\n",
       "      <td>-0.849941</td>\n",
       "      <td>-0.655697</td>\n",
       "      <td>-0.494153</td>\n",
       "    </tr>\n",
       "    <tr>\n",
       "      <th>109</th>\n",
       "      <td>2.231623</td>\n",
       "      <td>0.670381</td>\n",
       "      <td>0.591387</td>\n",
       "    </tr>\n",
       "    <tr>\n",
       "      <th>110</th>\n",
       "      <td>-0.268880</td>\n",
       "      <td>0.663406</td>\n",
       "      <td>0.081846</td>\n",
       "    </tr>\n",
       "    <tr>\n",
       "      <th>111</th>\n",
       "      <td>2.078373</td>\n",
       "      <td>-0.290204</td>\n",
       "      <td>0.816258</td>\n",
       "    </tr>\n",
       "    <tr>\n",
       "      <th>112</th>\n",
       "      <td>-0.510391</td>\n",
       "      <td>-0.291442</td>\n",
       "      <td>-0.117365</td>\n",
       "    </tr>\n",
       "    <tr>\n",
       "      <th>113</th>\n",
       "      <td>-1.940195</td>\n",
       "      <td>0.107798</td>\n",
       "      <td>-0.314026</td>\n",
       "    </tr>\n",
       "    <tr>\n",
       "      <th>114</th>\n",
       "      <td>-1.111007</td>\n",
       "      <td>-0.440834</td>\n",
       "      <td>-0.200356</td>\n",
       "    </tr>\n",
       "    <tr>\n",
       "      <th>115</th>\n",
       "      <td>1.062885</td>\n",
       "      <td>0.854758</td>\n",
       "      <td>0.100929</td>\n",
       "    </tr>\n",
       "    <tr>\n",
       "      <th>116</th>\n",
       "      <td>-2.312239</td>\n",
       "      <td>-0.739618</td>\n",
       "      <td>-0.366338</td>\n",
       "    </tr>\n",
       "    <tr>\n",
       "      <th>117</th>\n",
       "      <td>1.193974</td>\n",
       "      <td>-1.292749</td>\n",
       "      <td>1.105037</td>\n",
       "    </tr>\n",
       "    <tr>\n",
       "      <th>118</th>\n",
       "      <td>1.030390</td>\n",
       "      <td>0.371597</td>\n",
       "      <td>0.425405</td>\n",
       "    </tr>\n",
       "    <tr>\n",
       "      <th>119</th>\n",
       "      <td>-2.527872</td>\n",
       "      <td>1.611278</td>\n",
       "      <td>-0.228485</td>\n",
       "    </tr>\n",
       "    <tr>\n",
       "      <th>120</th>\n",
       "      <td>-0.287879</td>\n",
       "      <td>-0.206960</td>\n",
       "      <td>1.725860</td>\n",
       "    </tr>\n",
       "    <tr>\n",
       "      <th>121</th>\n",
       "      <td>-1.675412</td>\n",
       "      <td>0.090586</td>\n",
       "      <td>0.958219</td>\n",
       "    </tr>\n",
       "    <tr>\n",
       "      <th>122</th>\n",
       "      <td>-1.032524</td>\n",
       "      <td>0.138284</td>\n",
       "      <td>0.470230</td>\n",
       "    </tr>\n",
       "    <tr>\n",
       "      <th>123</th>\n",
       "      <td>3.014821</td>\n",
       "      <td>0.025792</td>\n",
       "      <td>-0.290004</td>\n",
       "    </tr>\n",
       "    <tr>\n",
       "      <th>124</th>\n",
       "      <td>1.673278</td>\n",
       "      <td>0.419295</td>\n",
       "      <td>-0.062584</td>\n",
       "    </tr>\n",
       "    <tr>\n",
       "      <th>125</th>\n",
       "      <td>1.236246</td>\n",
       "      <td>-1.394443</td>\n",
       "      <td>0.534057</td>\n",
       "    </tr>\n",
       "    <tr>\n",
       "      <th>126</th>\n",
       "      <td>-0.180619</td>\n",
       "      <td>0.657668</td>\n",
       "      <td>0.505927</td>\n",
       "    </tr>\n",
       "    <tr>\n",
       "      <th>127</th>\n",
       "      <td>-0.761680</td>\n",
       "      <td>-0.661434</td>\n",
       "      <td>-0.070072</td>\n",
       "    </tr>\n",
       "    <tr>\n",
       "      <th>128</th>\n",
       "      <td>-1.307085</td>\n",
       "      <td>0.740351</td>\n",
       "      <td>-0.555511</td>\n",
       "    </tr>\n",
       "    <tr>\n",
       "      <th>129</th>\n",
       "      <td>-0.020753</td>\n",
       "      <td>-1.204329</td>\n",
       "      <td>-0.380483</td>\n",
       "    </tr>\n",
       "    <tr>\n",
       "      <th>130</th>\n",
       "      <td>-1.153279</td>\n",
       "      <td>-0.339140</td>\n",
       "      <td>0.370624</td>\n",
       "    </tr>\n",
       "    <tr>\n",
       "      <th>131</th>\n",
       "      <td>-1.665634</td>\n",
       "      <td>-0.494269</td>\n",
       "      <td>0.711715</td>\n",
       "    </tr>\n",
       "    <tr>\n",
       "      <th>132</th>\n",
       "      <td>0.354452</td>\n",
       "      <td>1.880814</td>\n",
       "      <td>0.086864</td>\n",
       "    </tr>\n",
       "    <tr>\n",
       "      <th>133</th>\n",
       "      <td>1.398717</td>\n",
       "      <td>1.021363</td>\n",
       "      <td>-1.088325</td>\n",
       "    </tr>\n",
       "    <tr>\n",
       "      <th>134</th>\n",
       "      <td>0.459107</td>\n",
       "      <td>-1.532360</td>\n",
       "      <td>-0.397097</td>\n",
       "    </tr>\n",
       "    <tr>\n",
       "      <th>135</th>\n",
       "      <td>0.361068</td>\n",
       "      <td>-0.941768</td>\n",
       "      <td>-0.574675</td>\n",
       "    </tr>\n",
       "  </tbody>\n",
       "</table>\n",
       "</div>"
      ],
      "text/plain": [
       "     Mr_Quiet  Mr_Clever  Mr_Grumpy\n",
       "0   -0.040308  -0.034618   0.112525\n",
       "1   -0.194114   1.044873  -0.813611\n",
       "2    1.170701  -0.320690   0.032003\n",
       "3   -0.585713   1.367167  -0.372915\n",
       "4    2.512244  -0.714192  -0.195418\n",
       "5    1.389495  -0.433858   0.309186\n",
       "6   -0.301375   0.180244   0.406322\n",
       "7   -0.301375   0.180244   0.406322\n",
       "8    0.681063   0.592197   0.295121\n",
       "9   -1.711623  -0.590226  -0.283347\n",
       "10   0.429774   0.222205   0.342414\n",
       "11  -1.153279  -0.339140   0.370624\n",
       "12  -0.203336  -0.410348   0.583900\n",
       "13  -0.705913  -1.150333   0.678486\n",
       "14   0.494763   1.188527  -0.306538\n",
       "15  -0.696691   0.304888  -0.719024\n",
       "16  -1.199269  -0.435096  -0.624437\n",
       "17   0.942129   0.377334   0.001324\n",
       "18   1.532968   1.111582   0.330819\n",
       "19   0.145436   1.409128  -0.436823\n",
       "20   2.897783  -0.253981   1.176432\n",
       "21   1.323951   0.639895  -0.192868\n",
       "22   1.520029  -0.541290   0.162287\n",
       "23  -1.982467   0.209492   0.256954\n",
       "24  -0.259103   0.078550  -0.164658\n",
       "25   1.421990   0.049303  -0.015291\n",
       "26  -2.024739   0.311186   0.827934\n",
       "27  -1.120785   0.144021   0.046148\n",
       "28  -1.362296  -0.810826  -0.153063\n",
       "29   1.157762  -1.973561  -0.136529\n",
       "30  -0.259103   0.078550  -0.164658\n",
       "31  -2.080506   0.800085   0.079377\n",
       "32  -1.185774  -0.822301   0.695101\n",
       "33   0.044235  -0.238006  -1.029436\n",
       "34  -0.040308  -0.034618   0.112525\n",
       "35  -0.905708  -0.166798  -1.242711\n",
       "36   0.570085  -0.470082  -0.050988\n",
       "37  -2.331795   0.430092   0.126670\n",
       "38  -0.259103   0.078550  -0.164658\n",
       "39   0.942129   0.377334   0.001324\n",
       "40   2.143361   0.676118   0.167306\n",
       "41  -1.721401  -0.005371  -0.036843\n",
       "42   0.407058  -0.845811   0.420387\n",
       "43   0.210980   0.335374   0.065231\n",
       "44   2.032383  -0.386160  -0.178803\n",
       "45  -0.072803  -0.517780   0.437001\n",
       "46  -0.520169   0.293413   0.129139\n",
       "47   0.188263  -0.732642   0.143204\n",
       "48   2.488971   0.257868  -1.268452\n",
       "49   2.110867   0.192957   0.491782\n",
       "50   1.160924   0.264166   0.278507\n",
       "51  -0.506674  -0.093791   1.448677\n",
       "52  -1.842157  -0.482794  -0.136448\n",
       "53  -0.072803  -0.517780   0.437001\n",
       "54   0.504541   0.603672  -0.553042\n",
       "55   0.351291  -0.356913  -0.328171\n",
       "56   2.982327  -0.457369   0.034472\n",
       "57   0.592802   0.597935  -0.128961\n",
       "58  -1.261096   0.836308   0.439551\n",
       "59   3.145354  -0.081639  -0.436903\n",
       "60   1.562300  -0.642984  -0.408693\n",
       "61  -0.640924  -0.184010   0.029534\n",
       "62   2.055100   0.681856  -0.256776\n",
       "63   0.896140   0.281378  -0.993738\n",
       "64  -0.464402  -0.195485   0.877697\n",
       "65   0.606297   0.210730   1.190577\n",
       "66  -0.249325  -0.506305  -0.411162\n",
       "67  -1.753895  -0.488532   0.287633\n",
       "68  -2.844149   0.274963   0.467760\n",
       "69  -1.163057   0.245715   0.617128\n",
       "70  -1.652695   1.158602   0.880246\n",
       "71  -0.827225   0.412320  -0.572125\n",
       "72   1.132147  -0.021345   2.169025\n",
       "73  -1.287530  -0.429359  -1.048519\n",
       "74   0.909635  -0.105827   0.325800\n",
       "75  -1.940195   0.107798  -0.314026\n",
       "76   0.272807  -0.936030  -0.998757\n",
       "77  -1.189491  -1.019951  -0.870941\n",
       "78   0.449330  -0.947505  -0.150593\n",
       "79   1.203195   0.162472  -0.292473\n",
       "80  -0.239548  -1.091160  -0.657666\n",
       "81  -3.314232   0.018140   0.237871\n",
       "82  -0.259103   0.078550  -0.164658\n",
       "83  -2.661567  -0.519017  -0.496622\n",
       "84   0.309019  -0.255219   0.242809\n",
       "85   1.944122  -0.380423  -0.602885\n",
       "86  -0.673419  -0.667172   0.354010\n",
       "87   2.884288   0.133224  -0.143106\n",
       "88  -2.452550  -0.047331   0.027065\n",
       "89   0.984401   0.275641  -0.569656\n",
       "90  -0.947980  -0.065104  -0.671731\n",
       "91   0.122719   0.341111  -0.358850\n",
       "92  -0.030531  -0.619474  -0.133979\n",
       "93  -2.452550  -0.047331   0.027065\n",
       "94   1.637066  -0.261517  -1.304149\n",
       "95  -1.819440   0.585222  -0.214421\n",
       "96   0.243474   0.818535  -0.259245\n",
       "97  -0.138347   0.555974  -0.065053\n",
       "98   1.444706   1.117319  -0.093263\n",
       "99  -3.053166  -0.196723  -0.055926\n",
       "100  1.128429  -0.218996   0.602983\n",
       "101 -2.247251   0.226705  -1.015290\n",
       "102  3.014821   0.025792  -0.290004\n",
       "103  4.434847   0.211408   0.153161\n",
       "104 -0.468120  -0.393136  -0.688345\n",
       "105 -0.040308  -0.034618   0.112525\n",
       "106  0.093386   2.095677   0.380662\n",
       "107 -1.600645   0.472053   0.062762\n",
       "108 -0.849941  -0.655697  -0.494153\n",
       "109  2.231623   0.670381   0.591387\n",
       "110 -0.268880   0.663406   0.081846\n",
       "111  2.078373  -0.290204   0.816258\n",
       "112 -0.510391  -0.291442  -0.117365\n",
       "113 -1.940195   0.107798  -0.314026\n",
       "114 -1.111007  -0.440834  -0.200356\n",
       "115  1.062885   0.854758   0.100929\n",
       "116 -2.312239  -0.739618  -0.366338\n",
       "117  1.193974  -1.292749   1.105037\n",
       "118  1.030390   0.371597   0.425405\n",
       "119 -2.527872   1.611278  -0.228485\n",
       "120 -0.287879  -0.206960   1.725860\n",
       "121 -1.675412   0.090586   0.958219\n",
       "122 -1.032524   0.138284   0.470230\n",
       "123  3.014821   0.025792  -0.290004\n",
       "124  1.673278   0.419295  -0.062584\n",
       "125  1.236246  -1.394443   0.534057\n",
       "126 -0.180619   0.657668   0.505927\n",
       "127 -0.761680  -0.661434  -0.070072\n",
       "128 -1.307085   0.740351  -0.555511\n",
       "129 -0.020753  -1.204329  -0.380483\n",
       "130 -1.153279  -0.339140   0.370624\n",
       "131 -1.665634  -0.494269   0.711715\n",
       "132  0.354452   1.880814   0.086864\n",
       "133  1.398717   1.021363  -1.088325\n",
       "134  0.459107  -1.532360  -0.397097\n",
       "135  0.361068  -0.941768  -0.574675"
      ]
     },
     "execution_count": 119,
     "metadata": {},
     "output_type": "execute_result"
    }
   ],
   "source": [
    "# analyzing factor strengths per customer\n",
    "X_pca_reduced_hult = pca1.transform(survey_scaled1)\n",
    "\n",
    "\n",
    "# converting to a DataFrame\n",
    "X_pca_df_hult = pd.DataFrame(X_pca_reduced_hult)\n",
    "\n",
    "\n",
    "# renaming columns\n",
    "X_pca_df_hult.columns = factor_loadings_hult.columns\n",
    "\n",
    "\n",
    "# checking the results\n",
    "X_pca_df_hult"
   ]
  },
  {
   "cell_type": "code",
   "execution_count": 120,
   "metadata": {},
   "outputs": [
    {
     "data": {
      "text/plain": [
       "Mr_Quiet     2.224690\n",
       "Mr_Clever    0.446040\n",
       "Mr_Grumpy    0.329271\n",
       "dtype: float64"
      ]
     },
     "execution_count": 120,
     "metadata": {},
     "output_type": "execute_result"
    }
   ],
   "source": [
    "# checking variance amongst clusters\n",
    "np.var(X_pca_df_hult)"
   ]
  },
  {
   "cell_type": "code",
   "execution_count": 121,
   "metadata": {},
   "outputs": [
    {
     "name": "stdout",
     "output_type": "stream",
     "text": [
      "Mr_Quiet     2.224690\n",
      "Mr_Clever    0.446040\n",
      "Mr_Grumpy    0.329271\n",
      "dtype: float64 \n",
      "\n",
      "\n",
      "Mr_Quiet     1.0\n",
      "Mr_Clever    1.0\n",
      "Mr_Grumpy    1.0\n",
      "dtype: float64\n"
     ]
    },
    {
     "name": "stderr",
     "output_type": "stream",
     "text": [
      "<ipython-input-121-1c8d43651261>:23: FutureWarning: The pandas.np module is deprecated and will be removed from pandas in a future version. Import numpy directly instead\n",
      "  print(pd.np.var(X_pca_df_hult), '\\n\\n')\n",
      "<ipython-input-121-1c8d43651261>:24: FutureWarning: The pandas.np module is deprecated and will be removed from pandas in a future version. Import numpy directly instead\n",
      "  print(pd.np.var(pca_scaled_r))\n"
     ]
    }
   ],
   "source": [
    "#scaling again due to variance \n",
    "# INSTANTIATING a StandardScaler() object\n",
    "scaler_r = StandardScaler()\n",
    "\n",
    "\n",
    "# FITTING the scaler with the data\n",
    "scaler_r.fit(X_pca_df_hult)\n",
    "\n",
    "\n",
    "# TRANSFORMING our data after fit\n",
    "X_scaled_pca_r = scaler_r.transform(X_pca_df_hult)\n",
    "\n",
    "\n",
    "# converting scaled data into a DataFrame\n",
    "pca_scaled_r = pd.DataFrame(X_scaled_pca_r)\n",
    "\n",
    "\n",
    "# reattaching column names\n",
    "pca_scaled_r.columns = ['Mr_Quiet', 'Mr_Clever', 'Mr_Grumpy'] \n",
    "\n",
    "\n",
    "# checking pre- and post-scaling variance\n",
    "print(pd.np.var(X_pca_df_hult), '\\n\\n')\n",
    "print(pd.np.var(pca_scaled_r))"
   ]
  },
  {
   "cell_type": "markdown",
   "metadata": {},
   "source": [
    "### Develop a dendrogram to understand how many clusters to build with k-Means"
   ]
  },
  {
   "cell_type": "code",
   "execution_count": 122,
   "metadata": {},
   "outputs": [
    {
     "data": {
      "image/png": "[encoded data removed]",
      "text/plain": [
       "<Figure size 864x864 with 1 Axes>"
      ]
     },
     "metadata": {
      "needs_background": "light"
     },
     "output_type": "display_data"
    }
   ],
   "source": [
    "# grouping data based on Ward distance\n",
    "standard_mergings_comp = linkage(y = pca_scaled_r,\n",
    "                                 method = 'complete',\n",
    "                                 optimal_ordering = True)\n",
    "\n",
    "\n",
    "# setting plot size\n",
    "fig, ax = plt.subplots(figsize=(12, 12))\n",
    "\n",
    "# developing a dendrogram\n",
    "dendrogram(Z = standard_mergings_ward,\n",
    "           leaf_rotation = 90,\n",
    "           leaf_font_size = 6)\n",
    "\n",
    "\n",
    "# saving and displaying the plot\n",
    "\n",
    "plt.show()"
   ]
  },
  {
   "cell_type": "markdown",
   "metadata": {},
   "source": [
    "### Developing a code to analyze the inertia plot."
   ]
  },
  {
   "cell_type": "code",
   "execution_count": 123,
   "metadata": {},
   "outputs": [
    {
     "data": {
      "image/png": "[encoded data removed]",
      "text/plain": [
       "<Figure size 864x576 with 1 Axes>"
      ]
     },
     "metadata": {
      "needs_background": "light"
     },
     "output_type": "display_data"
    }
   ],
   "source": [
    "# calling the inertia_plot() function\n",
    "interia_plot(data=pca_scaled_r)"
   ]
  },
  {
   "cell_type": "markdown",
   "metadata": {},
   "source": [
    "### Developing a k-Means model with four clusters"
   ]
  },
  {
   "cell_type": "code",
   "execution_count": 124,
   "metadata": {},
   "outputs": [
    {
     "name": "stdout",
     "output_type": "stream",
     "text": [
      "1    42\n",
      "0    40\n",
      "2    31\n",
      "3    23\n",
      "Name: Cluster, dtype: int64\n"
     ]
    }
   ],
   "source": [
    "# INSTANTIATING a k-Means object with clusters\n",
    "survey_k_pca_r = KMeans(n_clusters   = 4,\n",
    "                         random_state = 219)\n",
    "\n",
    "\n",
    "# fitting the object to the data\n",
    "survey_k_pca_r.fit(pca_scaled_r)\n",
    "\n",
    "\n",
    "# converting the clusters to a DataFrame\n",
    "survey_kmeans_pca_r = pd.DataFrame({'Cluster': survey_k_pca_r.labels_})\n",
    "\n",
    "\n",
    "# checking the results\n",
    "print(survey_kmeans_pca_r.iloc[: , 0].value_counts())"
   ]
  },
  {
   "cell_type": "markdown",
   "metadata": {},
   "source": [
    "### Displaying the centroids (mean values) for each cluster."
   ]
  },
  {
   "cell_type": "code",
   "execution_count": 125,
   "metadata": {
    "scrolled": true
   },
   "outputs": [
    {
     "data": {
      "text/html": [
       "<div>\n",
       "<style scoped>\n",
       "    .dataframe tbody tr th:only-of-type {\n",
       "        vertical-align: middle;\n",
       "    }\n",
       "\n",
       "    .dataframe tbody tr th {\n",
       "        vertical-align: top;\n",
       "    }\n",
       "\n",
       "    .dataframe thead th {\n",
       "        text-align: right;\n",
       "    }\n",
       "</style>\n",
       "<table border=\"1\" class=\"dataframe\">\n",
       "  <thead>\n",
       "    <tr style=\"text-align: right;\">\n",
       "      <th></th>\n",
       "      <th>Mr_Quiet</th>\n",
       "      <th>Mr_Clever</th>\n",
       "      <th>Mr_Grumpy</th>\n",
       "    </tr>\n",
       "  </thead>\n",
       "  <tbody>\n",
       "    <tr>\n",
       "      <th>0</th>\n",
       "      <td>-0.87</td>\n",
       "      <td>0.37</td>\n",
       "      <td>0.24</td>\n",
       "    </tr>\n",
       "    <tr>\n",
       "      <th>1</th>\n",
       "      <td>0.93</td>\n",
       "      <td>0.73</td>\n",
       "      <td>-0.27</td>\n",
       "    </tr>\n",
       "    <tr>\n",
       "      <th>2</th>\n",
       "      <td>-0.34</td>\n",
       "      <td>-0.91</td>\n",
       "      <td>-0.91</td>\n",
       "    </tr>\n",
       "    <tr>\n",
       "      <th>3</th>\n",
       "      <td>0.27</td>\n",
       "      <td>-0.73</td>\n",
       "      <td>1.30</td>\n",
       "    </tr>\n",
       "  </tbody>\n",
       "</table>\n",
       "</div>"
      ],
      "text/plain": [
       "   Mr_Quiet  Mr_Clever  Mr_Grumpy\n",
       "0     -0.87       0.37       0.24\n",
       "1      0.93       0.73      -0.27\n",
       "2     -0.34      -0.91      -0.91\n",
       "3      0.27      -0.73       1.30"
      ]
     },
     "execution_count": 125,
     "metadata": {},
     "output_type": "execute_result"
    }
   ],
   "source": [
    "# storing cluster centers\n",
    "centroids_pca_r = survey_k_pca_r.cluster_centers_\n",
    "\n",
    "\n",
    "# converting cluster centers into a DataFrame\n",
    "centroids_pca_df_r = pd.DataFrame(centroids_pca_r)\n",
    "\n",
    "\n",
    "# renaming principal components\n",
    "centroids_pca_df_r.columns = ['Mr_Quiet', 'Mr_Clever', 'Mr_Grumpy'] \n",
    "\n",
    "\n",
    "# checking results (clusters = rows, pc = columns)\n",
    "centroids_pca_df_r.round(2)"
   ]
  },
  {
   "cell_type": "markdown",
   "metadata": {},
   "source": [
    "0. Noisy \n",
    "1. Introvert\n",
    "2. Happy helpful\n",
    "3. The_Grinch"
   ]
  },
  {
   "cell_type": "markdown",
   "metadata": {},
   "source": [
    "### Developing a code to concatenate the demographics and PCA components into one DataFrame"
   ]
  },
  {
   "cell_type": "code",
   "execution_count": 126,
   "metadata": {},
   "outputs": [
    {
     "data": {
      "text/html": [
       "<div>\n",
       "<style scoped>\n",
       "    .dataframe tbody tr th:only-of-type {\n",
       "        vertical-align: middle;\n",
       "    }\n",
       "\n",
       "    .dataframe tbody tr th {\n",
       "        vertical-align: top;\n",
       "    }\n",
       "\n",
       "    .dataframe thead th {\n",
       "        text-align: right;\n",
       "    }\n",
       "</style>\n",
       "<table border=\"1\" class=\"dataframe\">\n",
       "  <thead>\n",
       "    <tr style=\"text-align: right;\">\n",
       "      <th></th>\n",
       "      <th>What laptop do you currently have?</th>\n",
       "      <th>What laptop would you buy in next assuming if all laptops cost the same?</th>\n",
       "      <th>What program are you in?</th>\n",
       "      <th>What is your age?</th>\n",
       "      <th>Gender</th>\n",
       "      <th>What is your ethnicity?</th>\n",
       "      <th>ict</th>\n",
       "      <th>continents</th>\n",
       "      <th>Cluster</th>\n",
       "      <th>Mr_Quiet</th>\n",
       "      <th>Mr_Clever</th>\n",
       "      <th>Mr_Grumpy</th>\n",
       "    </tr>\n",
       "  </thead>\n",
       "  <tbody>\n",
       "    <tr>\n",
       "      <th>0</th>\n",
       "      <td>Macbook</td>\n",
       "      <td>Macbook</td>\n",
       "      <td>DD (MIB &amp; Business Analytics)</td>\n",
       "      <td>25.0</td>\n",
       "      <td>Female</td>\n",
       "      <td>Hispanic / Latino</td>\n",
       "      <td>no_value</td>\n",
       "      <td>S_American</td>\n",
       "      <td>0.0</td>\n",
       "      <td>-0.040308</td>\n",
       "      <td>-0.034618</td>\n",
       "      <td>0.112525</td>\n",
       "    </tr>\n",
       "    <tr>\n",
       "      <th>1</th>\n",
       "      <td>Windows laptop</td>\n",
       "      <td>Windows laptop</td>\n",
       "      <td>One year Business Analytics</td>\n",
       "      <td>27.0</td>\n",
       "      <td>Male</td>\n",
       "      <td>Hispanic / Latino</td>\n",
       "      <td>no_value</td>\n",
       "      <td>S_American</td>\n",
       "      <td>1.0</td>\n",
       "      <td>-0.194114</td>\n",
       "      <td>1.044873</td>\n",
       "      <td>-0.813611</td>\n",
       "    </tr>\n",
       "    <tr>\n",
       "      <th>2</th>\n",
       "      <td>Windows laptop</td>\n",
       "      <td>Windows laptop</td>\n",
       "      <td>One year Business Analytics</td>\n",
       "      <td>25.0</td>\n",
       "      <td>Male</td>\n",
       "      <td>West Asian / Indian</td>\n",
       "      <td>2_4</td>\n",
       "      <td>indian</td>\n",
       "      <td>1.0</td>\n",
       "      <td>1.170701</td>\n",
       "      <td>-0.320690</td>\n",
       "      <td>0.032003</td>\n",
       "    </tr>\n",
       "    <tr>\n",
       "      <th>3</th>\n",
       "      <td>Windows laptop</td>\n",
       "      <td>Windows laptop</td>\n",
       "      <td>One year Business Analytics</td>\n",
       "      <td>26.0</td>\n",
       "      <td>Female</td>\n",
       "      <td>West Asian / Indian</td>\n",
       "      <td>2_4</td>\n",
       "      <td>indian</td>\n",
       "      <td>1.0</td>\n",
       "      <td>-0.585713</td>\n",
       "      <td>1.367167</td>\n",
       "      <td>-0.372915</td>\n",
       "    </tr>\n",
       "    <tr>\n",
       "      <th>4</th>\n",
       "      <td>Macbook</td>\n",
       "      <td>Windows laptop</td>\n",
       "      <td>DD (MBA &amp; Disruptive innovation)</td>\n",
       "      <td>27.0</td>\n",
       "      <td>Male</td>\n",
       "      <td>Far east Asian</td>\n",
       "      <td>4_6</td>\n",
       "      <td>Asian</td>\n",
       "      <td>1.0</td>\n",
       "      <td>2.512244</td>\n",
       "      <td>-0.714192</td>\n",
       "      <td>-0.195418</td>\n",
       "    </tr>\n",
       "  </tbody>\n",
       "</table>\n",
       "</div>"
      ],
      "text/plain": [
       "  What laptop do you currently have? What laptop would you buy in next assuming if all laptops cost the same?          What program are you in?  What is your age?  Gender What is your ethnicity?      ict  continents   Cluster  Mr_Quiet  Mr_Clever  Mr_Grumpy\n",
       "0                            Macbook                                                                  Macbook     DD (MIB & Business Analytics)               25.0  Female       Hispanic / Latino  no_value  S_American      0.0 -0.040308  -0.034618   0.112525\n",
       "1                     Windows laptop                                                           Windows laptop       One year Business Analytics               27.0    Male       Hispanic / Latino  no_value  S_American      1.0 -0.194114   1.044873  -0.813611\n",
       "2                     Windows laptop                                                           Windows laptop       One year Business Analytics               25.0    Male     West Asian / Indian       2_4      indian      1.0  1.170701  -0.320690   0.032003\n",
       "3                     Windows laptop                                                           Windows laptop       One year Business Analytics               26.0  Female     West Asian / Indian       2_4      indian      1.0 -0.585713   1.367167  -0.372915\n",
       "4                            Macbook                                                           Windows laptop  DD (MBA & Disruptive innovation)               27.0    Male          Far east Asian       4_6       Asian      1.0  2.512244  -0.714192  -0.195418"
      ]
     },
     "execution_count": 126,
     "metadata": {},
     "output_type": "execute_result"
    }
   ],
   "source": [
    "# concatenating cluster memberships with principal components\n",
    "clst_pca_df_r = pd.concat([survey_kmeans_pca_r,\n",
    "                         X_pca_df_hult],\n",
    "                         axis = 1)\n",
    "\n",
    "\n",
    "# checking results\n",
    "clst_pca_df_r\n",
    "\n",
    "\n",
    "# concatenating demographic information with pca-clusters\n",
    "final_pca_clust_df_r = pd.concat([survey.loc[ : , ['What laptop do you currently have?', \n",
    "                                                 'What laptop would you buy in next assuming if all laptops cost the same?', \n",
    "                                                 'What program are you in?', 'What is your age?', 'Gender', \n",
    "                                                 'What is your ethnicity?','ict ', 'continents ']],\n",
    "                                clst_pca_df_r],\n",
    "                                axis = 1)\n",
    "\n",
    "\n",
    "# renaming columns\n",
    "final_pca_clust_df_r.columns = ['What laptop do you currently have?', \n",
    "                            'What laptop would you buy in next assuming if all laptops cost the same?', \n",
    "                            'What program are you in?', 'What is your age?', 'Gender', \n",
    "                            'What is your ethnicity?','ict ', 'continents ',\n",
    "                              'Cluster',\n",
    "                             'Mr_Quiet',\n",
    "                             'Mr_Clever',\n",
    "                               'Mr_Grumpy']\n",
    "\n",
    "\n",
    "# checking the results\n",
    "final_pca_clust_df_r.head(n = 5)"
   ]
  },
  {
   "cell_type": "markdown",
   "metadata": {},
   "source": [
    "## Analyze with Demographics"
   ]
  },
  {
   "cell_type": "markdown",
   "metadata": {},
   "source": [
    "0. Noisy \n",
    "1. Introvert\n",
    "2. Happy helpful\n",
    "3. The_Grinch"
   ]
  },
  {
   "cell_type": "code",
   "execution_count": 127,
   "metadata": {},
   "outputs": [
    {
     "data": {
      "image/png": "[encoded data removed]",
      "text/plain": [
       "<Figure size 864x576 with 1 Axes>"
      ]
     },
     "metadata": {
      "needs_background": "light"
     },
     "output_type": "display_data"
    }
   ],
   "source": [
    "########################\n",
    "# Channel\n",
    "########################\n",
    "\n",
    "# Carnivores\n",
    "fig, ax = plt.subplots(figsize = (12, 8))\n",
    "sns.boxplot(x = 'What laptop would you buy in next assuming if all laptops cost the same?',\n",
    "            y = 'Mr_Quiet',\n",
    "            hue = 'Cluster',\n",
    "            data = final_pca_clust_df_r)\n",
    "\n",
    "\n",
    "# formatting and displaying the plot\n",
    "plt.tight_layout()\n",
    "plt.show()"
   ]
  },
  {
   "cell_type": "markdown",
   "metadata": {},
   "source": [
    "The noisy people that are also Quiet are less likely to have Macbook compared to windows ."
   ]
  },
  {
   "cell_type": "code",
   "execution_count": 128,
   "metadata": {
    "scrolled": false
   },
   "outputs": [
    {
     "data": {
      "image/png": "[encoded data removed]",
      "text/plain": [
       "<Figure size 864x576 with 1 Axes>"
      ]
     },
     "metadata": {
      "needs_background": "light"
     },
     "output_type": "display_data"
    }
   ],
   "source": [
    "fig, ax = plt.subplots(figsize = (12, 8))\n",
    "sns.boxplot(x = 'What laptop would you buy in next assuming if all laptops cost the same?',\n",
    "            y = 'Mr_Clever',\n",
    "            hue = 'Cluster',\n",
    "            data = final_pca_clust_df_r)\n",
    "\n",
    "\n",
    "# formatting and displaying the plot\n",
    "plt.tight_layout()\n",
    "plt.show()"
   ]
  },
  {
   "cell_type": "markdown",
   "metadata": {},
   "source": [
    "### Insights"
   ]
  },
  {
   "cell_type": "markdown",
   "metadata": {},
   "source": [
    "- Based on the above analysis it can be said people are more likely to buy an Mac Laptop over  to Windows but there is also a small population that is likely to buy a Chromebook "
   ]
  },
  {
   "cell_type": "markdown",
   "metadata": {},
   "source": [
    "- The people that don't have Hult qualities are more likely going to buy Macbook over Windows .  "
   ]
  },
  {
   "cell_type": "markdown",
   "metadata": {},
   "source": [
    "- According to the graphs in the big five personality there was not a lot of variance in people planned purchases. The people in the Five personality type are most likely buy the laptops from the same brand that they are currently using ."
   ]
  },
  {
   "cell_type": "markdown",
   "metadata": {},
   "source": [
    "- People that have great team building skills are less likely to buy  windows ."
   ]
  },
  {
   "cell_type": "markdown",
   "metadata": {},
   "source": [
    "- People that are open to new experiences are more likely to buy Macbook over Windows ."
   ]
  },
  {
   "cell_type": "markdown",
   "metadata": {},
   "source": [
    "### Recommendation "
   ]
  },
  {
   "cell_type": "markdown",
   "metadata": {},
   "source": [
    "As Apple is the brand that is mostly preferred by the student.They should focus on the people that do not have Macbook  as their current Laptop .The  people that have The Big five personality and have  windows Laptop  are more likely to buy the same Laptop  again .\n"
   ]
  },
  {
   "cell_type": "markdown",
   "metadata": {},
   "source": [
    "We recommend to apple to reinforce their brand image based on their core audience."
   ]
  },
  {
   "cell_type": "markdown",
   "metadata": {},
   "source": [
    "It seems that people are quite brand loyal and likely to change for the competitor so we suggest to Apple to enter partnerships with higher education institutes.That way student will develop brand loyality while growing up with the apple products."
   ]
  },
  {
   "cell_type": "markdown",
   "metadata": {},
   "source": [
    "## Conclusion"
   ]
  },
  {
   "cell_type": "markdown",
   "metadata": {},
   "source": [
    "As seen in the above analysis Apple is said to have a high brand loyality.They should target the new audience but at the same time maintain the  image that they have portrayed in the past. This data might not be a representative  of the American  market because it was taken from  a group of  International Student coming from everywhere in the world."
   ]
  }
 ],
 "metadata": {
  "kernelspec": {
   "display_name": "Python 3",
   "language": "python",
   "name": "python3"
  },
  "language_info": {
   "codemirror_mode": {
    "name": "ipython",
    "version": 3
   },
   "file_extension": ".py",
   "mimetype": "text/x-python",
   "name": "python",
   "nbconvert_exporter": "python",
   "pygments_lexer": "ipython3",
   "version": "3.8.3"
  },
  "toc": {
   "base_numbering": 1,
   "nav_menu": {},
   "number_sections": true,
   "sideBar": true,
   "skip_h1_title": false,
   "title_cell": "Table of Contents",
   "title_sidebar": "Contents",
   "toc_cell": false,
   "toc_position": {},
   "toc_section_display": true,
   "toc_window_display": false
  },
  "varInspector": {
   "cols": {
    "lenName": 16,
    "lenType": 16,
    "lenVar": 40
   },
   "kernels_config": {
    "python": {
     "delete_cmd_postfix": "",
     "delete_cmd_prefix": "del ",
     "library": "var_list.py",
     "varRefreshCmd": "print(var_dic_list())"
    },
    "r": {
     "delete_cmd_postfix": ") ",
     "delete_cmd_prefix": "rm(",
     "library": "var_list.r",
     "varRefreshCmd": "cat(var_dic_list()) "
    }
   },
   "types_to_exclude": [
    "module",
    "function",
    "builtin_function_or_method",
    "instance",
    "_Feature"
   ],
   "window_display": false
  }
 },
 "nbformat": 4,
 "nbformat_minor": 4
}
